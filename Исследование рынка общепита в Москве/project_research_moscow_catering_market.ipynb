{
 "cells": [
  {
   "cell_type": "markdown",
   "metadata": {},
   "source": [
    "# Исследование рынка общепита в Москве для принятия решения об открытии нового заведения\n",
    "\n",
    "Инвесторы из фонда «Shut Up and Take My Money» решили попробовать себя в новой области и открыть заведение общественного питания в Москве. Заказчики ещё не знают, что это будет за место: кафе, ресторан, пиццерия, паб или бар, — и какими будут расположение, меню и цены.\n",
    "\n",
    "### Цели исследования\n",
    "1. Подготовить исследование рынка Москвы.\n",
    "2. Найти интересные особенности.\n",
    "3. Презентовать полученные результаты, которые в будущем помогут в выборе подходящего инвесторам места.\n",
    "\n",
    "### Описание данных\n",
    "Файл `moscow_places.csv`:\n",
    "- `name` — название заведения;\n",
    "- `address` — адрес заведения;\n",
    "- `category` — категория заведения, например «кафе», «пиццерия» или «кофейня»;\n",
    "- `hours` — информация о днях и часах работы;\n",
    "- `lat` — широта географической точки, в которой находится заведение;\n",
    "- `lng` — долгота географической точки, в которой находится заведение;\n",
    "- `rating` — рейтинг заведения по оценкам пользователей в Яндекс Картах (высшая оценка — 5.0);\n",
    "- `price` — категория цен в заведении, например «средние», «ниже среднего», «выше среднего» и так далее;\n",
    "- `avg_bill` — строка, которая хранит среднюю стоимость заказа в виде диапазона, например:\n",
    "  - «Средний счёт: 1000–1500 ₽»;\n",
    "  - «Цена чашки капучино: 130–220 ₽»;\n",
    "  - «Цена бокала пива: 400–600 ₽».\n",
    "  - и так далее;\n",
    "- `middle_avg_bill` — число с оценкой среднего чека, которое указано только для значений из столбца avg_bill, начинающихся с - подстроки «Средний счёт»:\n",
    "  - Если в строке указан ценовой диапазон из двух значений, в столбец войдёт медиана этих двух значений.\n",
    "  - Если в строке указано одно число — цена без диапазона, то в столбец войдёт это число.\n",
    "  - Если значения нет или оно не начинается с подстроки «Средний счёт», то в столбец ничего не войдёт.\n",
    "- `middle_coffee_cup` — число с оценкой одной чашки капучино, которое указано только для значений из столбца avg_bill, начинающихся с подстроки «Цена одной чашки капучино»:\n",
    "  - Если в строке указан ценовой диапазон из двух значений, в столбец войдёт медиана этих двух значений.\n",
    "  - Если в строке указано одно число — цена без диапазона, то в столбец войдёт это число.\n",
    "  - Если значения нет или оно не начинается с подстроки «Цена одной чашки капучино», то в столбец ничего не войдёт.\n",
    "- `chain` — число, выраженное 0 или 1, которое показывает, является ли заведение сетевым (для маленьких сетей могут встречаться ошибки):\n",
    "  - 0 — заведение не является сетевым\n",
    "  - 1 — заведение является сетевым\n",
    "- `district` — административный район, в котором находится заведение, например Центральный административный округ;\n",
    "- `seats` — количество посадочных мест.\n",
    "\n",
    "### Ход исследования\n",
    "Данные получу из файла `/datasets/moscow_places.csv`. О качестве данных ничего неизвестно, поэтому перед тем как приступить к ходу исследования, понадобится обзор данных.\n",
    "\n",
    "Я проверю данные на ошибки и оценю их влияние на исследование. Затем, на этапе предобработки я поищу возможность исправить все ошибки данных, которые не приведут к искажению конечного результата. Потом создам необходимые столбцы и приступлю к проведению исследовательского анализа.\n",
    "\n",
    "Таким образом, исследование пройдёт в пять этапов:\n",
    "1. Загрузка данных и изучение общей информации\n",
    "2. Предобработка данных\n",
    "3. Анализ данных\n",
    "4. Детализация исследования\n",
    "6. Общий вывод"
   ]
  },
  {
   "cell_type": "markdown",
   "metadata": {},
   "source": [
    "## 1. Загрузка данных и изучение общей информации"
   ]
  },
  {
   "cell_type": "markdown",
   "metadata": {},
   "source": [
    "Импорт библиотек и загрузка файла."
   ]
  },
  {
   "cell_type": "code",
   "execution_count": 1,
   "metadata": {},
   "outputs": [],
   "source": [
    "import pandas as pd\n",
    "import seaborn as sns\n",
    "import matplotlib\n",
    "from matplotlib import pyplot as plt\n",
    "from scipy import stats as st\n",
    "import numpy as np\n",
    "import math as mth\n",
    "import datetime as dt\n",
    "import plotly.express as px\n",
    "from plotly import graph_objects as go\n",
    "\n",
    "from folium import Map, Choropleth, Marker\n",
    "from folium.plugins import MarkerCluster\n",
    "\n",
    "pd.set_option('display.max_columns', None)\n",
    "pd.options.display.float_format = '{:.2f}'.format"
   ]
  },
  {
   "cell_type": "code",
   "execution_count": 2,
   "metadata": {},
   "outputs": [],
   "source": [
    "try:\n",
    "    data = pd.read_csv('/datasets/moscow_places.csv')\n",
    "except:\n",
    "    data = pd.read_csv('C:/Users/salpa/Downloads/moscow_places.csv')"
   ]
  },
  {
   "cell_type": "markdown",
   "metadata": {},
   "source": [
    "Обзор файла."
   ]
  },
  {
   "cell_type": "code",
   "execution_count": 3,
   "metadata": {
    "scrolled": false
   },
   "outputs": [
    {
     "data": {
      "text/html": [
       "<div>\n",
       "<style scoped>\n",
       "    .dataframe tbody tr th:only-of-type {\n",
       "        vertical-align: middle;\n",
       "    }\n",
       "\n",
       "    .dataframe tbody tr th {\n",
       "        vertical-align: top;\n",
       "    }\n",
       "\n",
       "    .dataframe thead th {\n",
       "        text-align: right;\n",
       "    }\n",
       "</style>\n",
       "<table border=\"1\" class=\"dataframe\">\n",
       "  <thead>\n",
       "    <tr style=\"text-align: right;\">\n",
       "      <th></th>\n",
       "      <th>name</th>\n",
       "      <th>category</th>\n",
       "      <th>address</th>\n",
       "      <th>district</th>\n",
       "      <th>hours</th>\n",
       "      <th>lat</th>\n",
       "      <th>lng</th>\n",
       "      <th>rating</th>\n",
       "      <th>price</th>\n",
       "      <th>avg_bill</th>\n",
       "      <th>middle_avg_bill</th>\n",
       "      <th>middle_coffee_cup</th>\n",
       "      <th>chain</th>\n",
       "      <th>seats</th>\n",
       "    </tr>\n",
       "  </thead>\n",
       "  <tbody>\n",
       "    <tr>\n",
       "      <th>0</th>\n",
       "      <td>WoWфли</td>\n",
       "      <td>кафе</td>\n",
       "      <td>Москва, улица Дыбенко, 7/1</td>\n",
       "      <td>Северный административный округ</td>\n",
       "      <td>ежедневно, 10:00–22:00</td>\n",
       "      <td>55.88</td>\n",
       "      <td>37.48</td>\n",
       "      <td>5.00</td>\n",
       "      <td>NaN</td>\n",
       "      <td>NaN</td>\n",
       "      <td>NaN</td>\n",
       "      <td>NaN</td>\n",
       "      <td>0</td>\n",
       "      <td>NaN</td>\n",
       "    </tr>\n",
       "    <tr>\n",
       "      <th>1</th>\n",
       "      <td>Четыре комнаты</td>\n",
       "      <td>ресторан</td>\n",
       "      <td>Москва, улица Дыбенко, 36, корп. 1</td>\n",
       "      <td>Северный административный округ</td>\n",
       "      <td>ежедневно, 10:00–22:00</td>\n",
       "      <td>55.88</td>\n",
       "      <td>37.48</td>\n",
       "      <td>4.50</td>\n",
       "      <td>выше среднего</td>\n",
       "      <td>Средний счёт:1500–1600 ₽</td>\n",
       "      <td>1550.00</td>\n",
       "      <td>NaN</td>\n",
       "      <td>0</td>\n",
       "      <td>4.00</td>\n",
       "    </tr>\n",
       "    <tr>\n",
       "      <th>2</th>\n",
       "      <td>Хазри</td>\n",
       "      <td>кафе</td>\n",
       "      <td>Москва, Клязьминская улица, 15</td>\n",
       "      <td>Северный административный округ</td>\n",
       "      <td>пн-чт 11:00–02:00; пт,сб 11:00–05:00; вс 11:00...</td>\n",
       "      <td>55.89</td>\n",
       "      <td>37.53</td>\n",
       "      <td>4.60</td>\n",
       "      <td>средние</td>\n",
       "      <td>Средний счёт:от 1000 ₽</td>\n",
       "      <td>1000.00</td>\n",
       "      <td>NaN</td>\n",
       "      <td>0</td>\n",
       "      <td>45.00</td>\n",
       "    </tr>\n",
       "    <tr>\n",
       "      <th>3</th>\n",
       "      <td>Dormouse Coffee Shop</td>\n",
       "      <td>кофейня</td>\n",
       "      <td>Москва, улица Маршала Федоренко, 12</td>\n",
       "      <td>Северный административный округ</td>\n",
       "      <td>ежедневно, 09:00–22:00</td>\n",
       "      <td>55.88</td>\n",
       "      <td>37.49</td>\n",
       "      <td>5.00</td>\n",
       "      <td>NaN</td>\n",
       "      <td>Цена чашки капучино:155–185 ₽</td>\n",
       "      <td>NaN</td>\n",
       "      <td>170.00</td>\n",
       "      <td>0</td>\n",
       "      <td>NaN</td>\n",
       "    </tr>\n",
       "    <tr>\n",
       "      <th>4</th>\n",
       "      <td>Иль Марко</td>\n",
       "      <td>пиццерия</td>\n",
       "      <td>Москва, Правобережная улица, 1Б</td>\n",
       "      <td>Северный административный округ</td>\n",
       "      <td>ежедневно, 10:00–22:00</td>\n",
       "      <td>55.88</td>\n",
       "      <td>37.45</td>\n",
       "      <td>5.00</td>\n",
       "      <td>средние</td>\n",
       "      <td>Средний счёт:400–600 ₽</td>\n",
       "      <td>500.00</td>\n",
       "      <td>NaN</td>\n",
       "      <td>1</td>\n",
       "      <td>148.00</td>\n",
       "    </tr>\n",
       "  </tbody>\n",
       "</table>\n",
       "</div>"
      ],
      "text/plain": [
       "                   name  category                              address  \\\n",
       "0                WoWфли      кафе           Москва, улица Дыбенко, 7/1   \n",
       "1        Четыре комнаты  ресторан   Москва, улица Дыбенко, 36, корп. 1   \n",
       "2                 Хазри      кафе       Москва, Клязьминская улица, 15   \n",
       "3  Dormouse Coffee Shop   кофейня  Москва, улица Маршала Федоренко, 12   \n",
       "4             Иль Марко  пиццерия      Москва, Правобережная улица, 1Б   \n",
       "\n",
       "                          district  \\\n",
       "0  Северный административный округ   \n",
       "1  Северный административный округ   \n",
       "2  Северный административный округ   \n",
       "3  Северный административный округ   \n",
       "4  Северный административный округ   \n",
       "\n",
       "                                               hours   lat   lng  rating  \\\n",
       "0                             ежедневно, 10:00–22:00 55.88 37.48    5.00   \n",
       "1                             ежедневно, 10:00–22:00 55.88 37.48    4.50   \n",
       "2  пн-чт 11:00–02:00; пт,сб 11:00–05:00; вс 11:00... 55.89 37.53    4.60   \n",
       "3                             ежедневно, 09:00–22:00 55.88 37.49    5.00   \n",
       "4                             ежедневно, 10:00–22:00 55.88 37.45    5.00   \n",
       "\n",
       "           price                       avg_bill  middle_avg_bill  \\\n",
       "0            NaN                            NaN              NaN   \n",
       "1  выше среднего       Средний счёт:1500–1600 ₽          1550.00   \n",
       "2        средние         Средний счёт:от 1000 ₽          1000.00   \n",
       "3            NaN  Цена чашки капучино:155–185 ₽              NaN   \n",
       "4        средние         Средний счёт:400–600 ₽           500.00   \n",
       "\n",
       "   middle_coffee_cup  chain  seats  \n",
       "0                NaN      0    NaN  \n",
       "1                NaN      0   4.00  \n",
       "2                NaN      0  45.00  \n",
       "3             170.00      0    NaN  \n",
       "4                NaN      1 148.00  "
      ]
     },
     "execution_count": 3,
     "metadata": {},
     "output_type": "execute_result"
    }
   ],
   "source": [
    "data.head()"
   ]
  },
  {
   "cell_type": "code",
   "execution_count": 4,
   "metadata": {},
   "outputs": [
    {
     "name": "stdout",
     "output_type": "stream",
     "text": [
      "<class 'pandas.core.frame.DataFrame'>\n",
      "RangeIndex: 8406 entries, 0 to 8405\n",
      "Data columns (total 14 columns):\n",
      " #   Column             Non-Null Count  Dtype  \n",
      "---  ------             --------------  -----  \n",
      " 0   name               8406 non-null   object \n",
      " 1   category           8406 non-null   object \n",
      " 2   address            8406 non-null   object \n",
      " 3   district           8406 non-null   object \n",
      " 4   hours              7870 non-null   object \n",
      " 5   lat                8406 non-null   float64\n",
      " 6   lng                8406 non-null   float64\n",
      " 7   rating             8406 non-null   float64\n",
      " 8   price              3315 non-null   object \n",
      " 9   avg_bill           3816 non-null   object \n",
      " 10  middle_avg_bill    3149 non-null   float64\n",
      " 11  middle_coffee_cup  535 non-null    float64\n",
      " 12  chain              8406 non-null   int64  \n",
      " 13  seats              4795 non-null   float64\n",
      "dtypes: float64(6), int64(1), object(7)\n",
      "memory usage: 919.5+ KB\n"
     ]
    }
   ],
   "source": [
    "data.info()"
   ]
  },
  {
   "cell_type": "code",
   "execution_count": 5,
   "metadata": {},
   "outputs": [
    {
     "data": {
      "text/html": [
       "<div>\n",
       "<style scoped>\n",
       "    .dataframe tbody tr th:only-of-type {\n",
       "        vertical-align: middle;\n",
       "    }\n",
       "\n",
       "    .dataframe tbody tr th {\n",
       "        vertical-align: top;\n",
       "    }\n",
       "\n",
       "    .dataframe thead th {\n",
       "        text-align: right;\n",
       "    }\n",
       "</style>\n",
       "<table border=\"1\" class=\"dataframe\">\n",
       "  <thead>\n",
       "    <tr style=\"text-align: right;\">\n",
       "      <th></th>\n",
       "      <th>lat</th>\n",
       "      <th>lng</th>\n",
       "      <th>rating</th>\n",
       "      <th>middle_avg_bill</th>\n",
       "      <th>middle_coffee_cup</th>\n",
       "      <th>chain</th>\n",
       "      <th>seats</th>\n",
       "    </tr>\n",
       "  </thead>\n",
       "  <tbody>\n",
       "    <tr>\n",
       "      <th>count</th>\n",
       "      <td>8406.00</td>\n",
       "      <td>8406.00</td>\n",
       "      <td>8406.00</td>\n",
       "      <td>3149.00</td>\n",
       "      <td>535.00</td>\n",
       "      <td>8406.00</td>\n",
       "      <td>4795.00</td>\n",
       "    </tr>\n",
       "    <tr>\n",
       "      <th>mean</th>\n",
       "      <td>55.75</td>\n",
       "      <td>37.61</td>\n",
       "      <td>4.23</td>\n",
       "      <td>958.05</td>\n",
       "      <td>174.72</td>\n",
       "      <td>0.38</td>\n",
       "      <td>108.42</td>\n",
       "    </tr>\n",
       "    <tr>\n",
       "      <th>std</th>\n",
       "      <td>0.07</td>\n",
       "      <td>0.10</td>\n",
       "      <td>0.47</td>\n",
       "      <td>1009.73</td>\n",
       "      <td>88.95</td>\n",
       "      <td>0.49</td>\n",
       "      <td>122.83</td>\n",
       "    </tr>\n",
       "    <tr>\n",
       "      <th>min</th>\n",
       "      <td>55.57</td>\n",
       "      <td>37.36</td>\n",
       "      <td>1.00</td>\n",
       "      <td>0.00</td>\n",
       "      <td>60.00</td>\n",
       "      <td>0.00</td>\n",
       "      <td>0.00</td>\n",
       "    </tr>\n",
       "    <tr>\n",
       "      <th>25%</th>\n",
       "      <td>55.71</td>\n",
       "      <td>37.54</td>\n",
       "      <td>4.10</td>\n",
       "      <td>375.00</td>\n",
       "      <td>124.50</td>\n",
       "      <td>0.00</td>\n",
       "      <td>40.00</td>\n",
       "    </tr>\n",
       "    <tr>\n",
       "      <th>50%</th>\n",
       "      <td>55.75</td>\n",
       "      <td>37.61</td>\n",
       "      <td>4.30</td>\n",
       "      <td>750.00</td>\n",
       "      <td>169.00</td>\n",
       "      <td>0.00</td>\n",
       "      <td>75.00</td>\n",
       "    </tr>\n",
       "    <tr>\n",
       "      <th>75%</th>\n",
       "      <td>55.80</td>\n",
       "      <td>37.66</td>\n",
       "      <td>4.40</td>\n",
       "      <td>1250.00</td>\n",
       "      <td>225.00</td>\n",
       "      <td>1.00</td>\n",
       "      <td>140.00</td>\n",
       "    </tr>\n",
       "    <tr>\n",
       "      <th>max</th>\n",
       "      <td>55.93</td>\n",
       "      <td>37.87</td>\n",
       "      <td>5.00</td>\n",
       "      <td>35000.00</td>\n",
       "      <td>1568.00</td>\n",
       "      <td>1.00</td>\n",
       "      <td>1288.00</td>\n",
       "    </tr>\n",
       "  </tbody>\n",
       "</table>\n",
       "</div>"
      ],
      "text/plain": [
       "          lat     lng  rating  middle_avg_bill  middle_coffee_cup   chain  \\\n",
       "count 8406.00 8406.00 8406.00          3149.00             535.00 8406.00   \n",
       "mean    55.75   37.61    4.23           958.05             174.72    0.38   \n",
       "std      0.07    0.10    0.47          1009.73              88.95    0.49   \n",
       "min     55.57   37.36    1.00             0.00              60.00    0.00   \n",
       "25%     55.71   37.54    4.10           375.00             124.50    0.00   \n",
       "50%     55.75   37.61    4.30           750.00             169.00    0.00   \n",
       "75%     55.80   37.66    4.40          1250.00             225.00    1.00   \n",
       "max     55.93   37.87    5.00         35000.00            1568.00    1.00   \n",
       "\n",
       "        seats  \n",
       "count 4795.00  \n",
       "mean   108.42  \n",
       "std    122.83  \n",
       "min      0.00  \n",
       "25%     40.00  \n",
       "50%     75.00  \n",
       "75%    140.00  \n",
       "max   1288.00  "
      ]
     },
     "execution_count": 5,
     "metadata": {},
     "output_type": "execute_result"
    }
   ],
   "source": [
    "data.describe()"
   ]
  },
  {
   "cell_type": "markdown",
   "metadata": {},
   "source": [
    "Приведём названия заведений и их адреса к нижнему регистру."
   ]
  },
  {
   "cell_type": "code",
   "execution_count": 6,
   "metadata": {},
   "outputs": [],
   "source": [
    "data['name'] = data['name'].str.lower()\n",
    "data['address'] = data['address'].str.lower()"
   ]
  },
  {
   "cell_type": "code",
   "execution_count": 7,
   "metadata": {
    "scrolled": true
   },
   "outputs": [
    {
     "name": "stdout",
     "output_type": "stream",
     "text": [
      "Количество заведений: 5512\n"
     ]
    }
   ],
   "source": [
    "print('Количество заведений:', data['name'].nunique())"
   ]
  },
  {
   "cell_type": "markdown",
   "metadata": {},
   "source": [
    "- Мы загрузили данные и провели первичный осмотр. В файле 14 столбцов и 8406 строк. Есть пропуски и аномалии.\n",
    "- В датабазе представлено 5512 заведений."
   ]
  },
  {
   "cell_type": "markdown",
   "metadata": {},
   "source": [
    "## 2.  Предобработка данных"
   ]
  },
  {
   "cell_type": "code",
   "execution_count": 8,
   "metadata": {},
   "outputs": [
    {
     "data": {
      "text/plain": [
       "name                    0\n",
       "category                0\n",
       "address                 0\n",
       "district                0\n",
       "hours                 536\n",
       "lat                     0\n",
       "lng                     0\n",
       "rating                  0\n",
       "price                5091\n",
       "avg_bill             4590\n",
       "middle_avg_bill      5257\n",
       "middle_coffee_cup    7871\n",
       "chain                   0\n",
       "seats                3611\n",
       "dtype: int64"
      ]
     },
     "execution_count": 8,
     "metadata": {},
     "output_type": "execute_result"
    }
   ],
   "source": [
    "data.isna().sum()"
   ]
  },
  {
   "cell_type": "markdown",
   "metadata": {},
   "source": [
    "- Есть пропуски в шести столбцах. Больше всего в `price`, `avg_bill`, `middle_avg_bill`, `middle_coffee_cup` и `seats`. Удалять их точно нельзя, дальше посмотрим что мы сможем с ними сделать."
   ]
  },
  {
   "cell_type": "code",
   "execution_count": 9,
   "metadata": {},
   "outputs": [
    {
     "name": "stdout",
     "output_type": "stream",
     "text": [
      "Количество явных дубликатов: 0\n"
     ]
    }
   ],
   "source": [
    "print('Количество явных дубликатов:', data.duplicated().sum())"
   ]
  },
  {
   "cell_type": "markdown",
   "metadata": {},
   "source": [
    "- Явных дубликатов не обнаружено.\n",
    "\n",
    "Теперь посмотрим дубликаты неявные."
   ]
  },
  {
   "cell_type": "code",
   "execution_count": 10,
   "metadata": {},
   "outputs": [
    {
     "data": {
      "text/html": [
       "<div>\n",
       "<style scoped>\n",
       "    .dataframe tbody tr th:only-of-type {\n",
       "        vertical-align: middle;\n",
       "    }\n",
       "\n",
       "    .dataframe tbody tr th {\n",
       "        vertical-align: top;\n",
       "    }\n",
       "\n",
       "    .dataframe thead th {\n",
       "        text-align: right;\n",
       "    }\n",
       "</style>\n",
       "<table border=\"1\" class=\"dataframe\">\n",
       "  <thead>\n",
       "    <tr style=\"text-align: right;\">\n",
       "      <th></th>\n",
       "      <th>name</th>\n",
       "      <th>category</th>\n",
       "      <th>address</th>\n",
       "      <th>district</th>\n",
       "      <th>hours</th>\n",
       "      <th>lat</th>\n",
       "      <th>lng</th>\n",
       "      <th>rating</th>\n",
       "      <th>price</th>\n",
       "      <th>avg_bill</th>\n",
       "      <th>middle_avg_bill</th>\n",
       "      <th>middle_coffee_cup</th>\n",
       "      <th>chain</th>\n",
       "      <th>seats</th>\n",
       "    </tr>\n",
       "  </thead>\n",
       "  <tbody>\n",
       "    <tr>\n",
       "      <th>215</th>\n",
       "      <td>кафе</td>\n",
       "      <td>кафе</td>\n",
       "      <td>москва, парк ангарские пруды</td>\n",
       "      <td>Северный административный округ</td>\n",
       "      <td>ежедневно, 10:00–22:00</td>\n",
       "      <td>55.88</td>\n",
       "      <td>37.53</td>\n",
       "      <td>3.20</td>\n",
       "      <td>NaN</td>\n",
       "      <td>NaN</td>\n",
       "      <td>NaN</td>\n",
       "      <td>NaN</td>\n",
       "      <td>0</td>\n",
       "      <td>NaN</td>\n",
       "    </tr>\n",
       "    <tr>\n",
       "      <th>1511</th>\n",
       "      <td>more poke</td>\n",
       "      <td>ресторан</td>\n",
       "      <td>москва, волоколамское шоссе, 11, стр. 2</td>\n",
       "      <td>Северный административный округ</td>\n",
       "      <td>пн-чт 09:00–18:00; пт,сб 09:00–21:00; вс 09:00...</td>\n",
       "      <td>55.81</td>\n",
       "      <td>37.50</td>\n",
       "      <td>4.20</td>\n",
       "      <td>NaN</td>\n",
       "      <td>NaN</td>\n",
       "      <td>NaN</td>\n",
       "      <td>NaN</td>\n",
       "      <td>1</td>\n",
       "      <td>188.00</td>\n",
       "    </tr>\n",
       "    <tr>\n",
       "      <th>2420</th>\n",
       "      <td>раковарня клешни и хвосты</td>\n",
       "      <td>бар,паб</td>\n",
       "      <td>москва, проспект мира, 118</td>\n",
       "      <td>Северо-Восточный административный округ</td>\n",
       "      <td>пн-чт 12:00–00:00; пт,сб 12:00–01:00; вс 12:00...</td>\n",
       "      <td>55.81</td>\n",
       "      <td>37.64</td>\n",
       "      <td>4.40</td>\n",
       "      <td>NaN</td>\n",
       "      <td>NaN</td>\n",
       "      <td>NaN</td>\n",
       "      <td>NaN</td>\n",
       "      <td>1</td>\n",
       "      <td>150.00</td>\n",
       "    </tr>\n",
       "    <tr>\n",
       "      <th>3109</th>\n",
       "      <td>хлеб да выпечка</td>\n",
       "      <td>кафе</td>\n",
       "      <td>москва, ярцевская улица, 19</td>\n",
       "      <td>Западный административный округ</td>\n",
       "      <td>NaN</td>\n",
       "      <td>55.74</td>\n",
       "      <td>37.41</td>\n",
       "      <td>4.10</td>\n",
       "      <td>NaN</td>\n",
       "      <td>NaN</td>\n",
       "      <td>NaN</td>\n",
       "      <td>NaN</td>\n",
       "      <td>0</td>\n",
       "      <td>276.00</td>\n",
       "    </tr>\n",
       "  </tbody>\n",
       "</table>\n",
       "</div>"
      ],
      "text/plain": [
       "                           name  category  \\\n",
       "215                        кафе      кафе   \n",
       "1511                  more poke  ресторан   \n",
       "2420  раковарня клешни и хвосты   бар,паб   \n",
       "3109            хлеб да выпечка      кафе   \n",
       "\n",
       "                                      address  \\\n",
       "215              москва, парк ангарские пруды   \n",
       "1511  москва, волоколамское шоссе, 11, стр. 2   \n",
       "2420               москва, проспект мира, 118   \n",
       "3109              москва, ярцевская улица, 19   \n",
       "\n",
       "                                     district  \\\n",
       "215           Северный административный округ   \n",
       "1511          Северный административный округ   \n",
       "2420  Северо-Восточный административный округ   \n",
       "3109          Западный административный округ   \n",
       "\n",
       "                                                  hours   lat   lng  rating  \\\n",
       "215                              ежедневно, 10:00–22:00 55.88 37.53    3.20   \n",
       "1511  пн-чт 09:00–18:00; пт,сб 09:00–21:00; вс 09:00... 55.81 37.50    4.20   \n",
       "2420  пн-чт 12:00–00:00; пт,сб 12:00–01:00; вс 12:00... 55.81 37.64    4.40   \n",
       "3109                                                NaN 55.74 37.41    4.10   \n",
       "\n",
       "     price avg_bill  middle_avg_bill  middle_coffee_cup  chain  seats  \n",
       "215    NaN      NaN              NaN                NaN      0    NaN  \n",
       "1511   NaN      NaN              NaN                NaN      1 188.00  \n",
       "2420   NaN      NaN              NaN                NaN      1 150.00  \n",
       "3109   NaN      NaN              NaN                NaN      0 276.00  "
      ]
     },
     "execution_count": 10,
     "metadata": {},
     "output_type": "execute_result"
    }
   ],
   "source": [
    "data[data.duplicated(['name', 'address'])]"
   ]
  },
  {
   "cell_type": "code",
   "execution_count": 11,
   "metadata": {},
   "outputs": [],
   "source": [
    "data = data.drop_duplicates(subset=['name', 'address'])"
   ]
  },
  {
   "cell_type": "code",
   "execution_count": 12,
   "metadata": {},
   "outputs": [
    {
     "data": {
      "text/html": [
       "<div>\n",
       "<style scoped>\n",
       "    .dataframe tbody tr th:only-of-type {\n",
       "        vertical-align: middle;\n",
       "    }\n",
       "\n",
       "    .dataframe tbody tr th {\n",
       "        vertical-align: top;\n",
       "    }\n",
       "\n",
       "    .dataframe thead th {\n",
       "        text-align: right;\n",
       "    }\n",
       "</style>\n",
       "<table border=\"1\" class=\"dataframe\">\n",
       "  <thead>\n",
       "    <tr style=\"text-align: right;\">\n",
       "      <th></th>\n",
       "      <th>name</th>\n",
       "      <th>category</th>\n",
       "      <th>address</th>\n",
       "      <th>district</th>\n",
       "      <th>hours</th>\n",
       "      <th>lat</th>\n",
       "      <th>lng</th>\n",
       "      <th>rating</th>\n",
       "      <th>price</th>\n",
       "      <th>avg_bill</th>\n",
       "      <th>middle_avg_bill</th>\n",
       "      <th>middle_coffee_cup</th>\n",
       "      <th>chain</th>\n",
       "      <th>seats</th>\n",
       "    </tr>\n",
       "  </thead>\n",
       "  <tbody>\n",
       "  </tbody>\n",
       "</table>\n",
       "</div>"
      ],
      "text/plain": [
       "Empty DataFrame\n",
       "Columns: [name, category, address, district, hours, lat, lng, rating, price, avg_bill, middle_avg_bill, middle_coffee_cup, chain, seats]\n",
       "Index: []"
      ]
     },
     "execution_count": 12,
     "metadata": {},
     "output_type": "execute_result"
    }
   ],
   "source": [
    "data[data.duplicated(['name', 'address'])]"
   ]
  },
  {
   "cell_type": "markdown",
   "metadata": {},
   "source": [
    "- Обнаружено и удалено четыре неявных дубликата."
   ]
  },
  {
   "cell_type": "markdown",
   "metadata": {},
   "source": [
    "Посмотрим на ранее обнаруженную аномалию в 1288 посадочных мест внимательней."
   ]
  },
  {
   "cell_type": "code",
   "execution_count": 13,
   "metadata": {},
   "outputs": [
    {
     "data": {
      "text/plain": [
       "count   4792.00\n",
       "mean     108.36\n",
       "std      122.84\n",
       "min        0.00\n",
       "25%       40.00\n",
       "50%       75.00\n",
       "75%      140.00\n",
       "max     1288.00\n",
       "Name: seats, dtype: float64"
      ]
     },
     "execution_count": 13,
     "metadata": {},
     "output_type": "execute_result"
    }
   ],
   "source": [
    "data['seats'].describe()"
   ]
  },
  {
   "cell_type": "code",
   "execution_count": 14,
   "metadata": {},
   "outputs": [
    {
     "data": {
      "image/png": "[encoded data removed]",
      "text/plain": [
       "<Figure size 1400x700 with 1 Axes>"
      ]
     },
     "metadata": {},
     "output_type": "display_data"
    }
   ],
   "source": [
    "data.boxplot(column='seats', by='category', figsize=(14, 7))\n",
    "plt.show()"
   ]
  },
  {
   "cell_type": "markdown",
   "metadata": {},
   "source": [
    "Очевидны выбросы, похоже на ошибки в заполнении данных. Посчитаем сколько заведений с больше чем 500 посадочных мест."
   ]
  },
  {
   "cell_type": "code",
   "execution_count": 15,
   "metadata": {},
   "outputs": [
    {
     "name": "stdout",
     "output_type": "stream",
     "text": [
      "Заведений с посадкой больше 500: 56\n"
     ]
    }
   ],
   "source": [
    "print('Заведений с посадкой больше 500:', data[data['seats'] > 500]['name'].count())"
   ]
  },
  {
   "cell_type": "markdown",
   "metadata": {},
   "source": [
    "Это буквально 1% от всех заведений, поэтому их можно удалить."
   ]
  },
  {
   "cell_type": "code",
   "execution_count": 16,
   "metadata": {},
   "outputs": [
    {
     "name": "stdout",
     "output_type": "stream",
     "text": [
      "Заведений с посадкой больше 500: 0\n"
     ]
    }
   ],
   "source": [
    "seats500 = data[data['seats'] > 500]\n",
    "data = data.query('index not in @seats500.index')\n",
    "print('Заведений с посадкой больше 500:', data[data['seats'] > 500]['name'].count())"
   ]
  },
  {
   "cell_type": "markdown",
   "metadata": {},
   "source": [
    "Создадим столбец `street` с названиями улиц из столбца с адресом и столбец `is_24/7` с обозначением, что заведение работает ежедневно и круглосуточно (24/7)."
   ]
  },
  {
   "cell_type": "code",
   "execution_count": 17,
   "metadata": {},
   "outputs": [],
   "source": [
    "data['street'] = data['address'].str.split(', ').str[1]"
   ]
  },
  {
   "cell_type": "code",
   "execution_count": 18,
   "metadata": {
    "scrolled": false
   },
   "outputs": [
    {
     "data": {
      "text/html": [
       "<div>\n",
       "<style scoped>\n",
       "    .dataframe tbody tr th:only-of-type {\n",
       "        vertical-align: middle;\n",
       "    }\n",
       "\n",
       "    .dataframe tbody tr th {\n",
       "        vertical-align: top;\n",
       "    }\n",
       "\n",
       "    .dataframe thead th {\n",
       "        text-align: right;\n",
       "    }\n",
       "</style>\n",
       "<table border=\"1\" class=\"dataframe\">\n",
       "  <thead>\n",
       "    <tr style=\"text-align: right;\">\n",
       "      <th></th>\n",
       "      <th>name</th>\n",
       "      <th>category</th>\n",
       "      <th>address</th>\n",
       "      <th>district</th>\n",
       "      <th>hours</th>\n",
       "      <th>lat</th>\n",
       "      <th>lng</th>\n",
       "      <th>rating</th>\n",
       "      <th>price</th>\n",
       "      <th>avg_bill</th>\n",
       "      <th>middle_avg_bill</th>\n",
       "      <th>middle_coffee_cup</th>\n",
       "      <th>chain</th>\n",
       "      <th>seats</th>\n",
       "      <th>street</th>\n",
       "      <th>is_24/7</th>\n",
       "    </tr>\n",
       "  </thead>\n",
       "  <tbody>\n",
       "    <tr>\n",
       "      <th>647</th>\n",
       "      <td>i-chef бистро</td>\n",
       "      <td>кафе</td>\n",
       "      <td>москва, смольная улица, 24а</td>\n",
       "      <td>Северный административный округ</td>\n",
       "      <td>ежедневно, 08:00–18:30</td>\n",
       "      <td>55.86</td>\n",
       "      <td>37.48</td>\n",
       "      <td>4.50</td>\n",
       "      <td>NaN</td>\n",
       "      <td>NaN</td>\n",
       "      <td>NaN</td>\n",
       "      <td>NaN</td>\n",
       "      <td>0</td>\n",
       "      <td>40.00</td>\n",
       "      <td>смольная улица</td>\n",
       "      <td>False</td>\n",
       "    </tr>\n",
       "    <tr>\n",
       "      <th>4766</th>\n",
       "      <td>грабли</td>\n",
       "      <td>ресторан</td>\n",
       "      <td>москва, центральный административный округ, тв...</td>\n",
       "      <td>Центральный административный округ</td>\n",
       "      <td>ежедневно, 10:00–22:00</td>\n",
       "      <td>55.76</td>\n",
       "      <td>37.63</td>\n",
       "      <td>4.30</td>\n",
       "      <td>NaN</td>\n",
       "      <td>NaN</td>\n",
       "      <td>NaN</td>\n",
       "      <td>NaN</td>\n",
       "      <td>1</td>\n",
       "      <td>NaN</td>\n",
       "      <td>центральный административный округ</td>\n",
       "      <td>False</td>\n",
       "    </tr>\n",
       "    <tr>\n",
       "      <th>5149</th>\n",
       "      <td>хочу хычин</td>\n",
       "      <td>ресторан</td>\n",
       "      <td>москва, стремянный переулок, 38</td>\n",
       "      <td>Центральный административный округ</td>\n",
       "      <td>ежедневно, 10:00–22:00</td>\n",
       "      <td>55.73</td>\n",
       "      <td>37.63</td>\n",
       "      <td>4.60</td>\n",
       "      <td>средние</td>\n",
       "      <td>Средний счёт:от 400 ₽</td>\n",
       "      <td>400.00</td>\n",
       "      <td>NaN</td>\n",
       "      <td>0</td>\n",
       "      <td>94.00</td>\n",
       "      <td>стремянный переулок</td>\n",
       "      <td>False</td>\n",
       "    </tr>\n",
       "    <tr>\n",
       "      <th>6693</th>\n",
       "      <td>asia gourmet</td>\n",
       "      <td>кафе</td>\n",
       "      <td>москва, проспект вернадского, 86в</td>\n",
       "      <td>Западный административный округ</td>\n",
       "      <td>пн-чт 10:00–23:00; пт,сб 10:00–00:00; вс 11:00...</td>\n",
       "      <td>55.66</td>\n",
       "      <td>37.48</td>\n",
       "      <td>4.00</td>\n",
       "      <td>средние</td>\n",
       "      <td>Средний счёт:100–599 ₽</td>\n",
       "      <td>349.00</td>\n",
       "      <td>NaN</td>\n",
       "      <td>1</td>\n",
       "      <td>NaN</td>\n",
       "      <td>проспект вернадского</td>\n",
       "      <td>False</td>\n",
       "    </tr>\n",
       "    <tr>\n",
       "      <th>5035</th>\n",
       "      <td>гао</td>\n",
       "      <td>ресторан</td>\n",
       "      <td>москва, летниковская улица, 4, стр. 5</td>\n",
       "      <td>Центральный административный округ</td>\n",
       "      <td>ежедневно, 11:30–22:00</td>\n",
       "      <td>55.73</td>\n",
       "      <td>37.64</td>\n",
       "      <td>4.30</td>\n",
       "      <td>средние</td>\n",
       "      <td>Средний счёт:150–700 ₽</td>\n",
       "      <td>425.00</td>\n",
       "      <td>NaN</td>\n",
       "      <td>0</td>\n",
       "      <td>45.00</td>\n",
       "      <td>летниковская улица</td>\n",
       "      <td>False</td>\n",
       "    </tr>\n",
       "  </tbody>\n",
       "</table>\n",
       "</div>"
      ],
      "text/plain": [
       "               name  category  \\\n",
       "647   i-chef бистро      кафе   \n",
       "4766         грабли  ресторан   \n",
       "5149     хочу хычин  ресторан   \n",
       "6693   asia gourmet      кафе   \n",
       "5035            гао  ресторан   \n",
       "\n",
       "                                                address  \\\n",
       "647                         москва, смольная улица, 24а   \n",
       "4766  москва, центральный административный округ, тв...   \n",
       "5149                    москва, стремянный переулок, 38   \n",
       "6693                  москва, проспект вернадского, 86в   \n",
       "5035              москва, летниковская улица, 4, стр. 5   \n",
       "\n",
       "                                district  \\\n",
       "647      Северный административный округ   \n",
       "4766  Центральный административный округ   \n",
       "5149  Центральный административный округ   \n",
       "6693     Западный административный округ   \n",
       "5035  Центральный административный округ   \n",
       "\n",
       "                                                  hours   lat   lng  rating  \\\n",
       "647                              ежедневно, 08:00–18:30 55.86 37.48    4.50   \n",
       "4766                             ежедневно, 10:00–22:00 55.76 37.63    4.30   \n",
       "5149                             ежедневно, 10:00–22:00 55.73 37.63    4.60   \n",
       "6693  пн-чт 10:00–23:00; пт,сб 10:00–00:00; вс 11:00... 55.66 37.48    4.00   \n",
       "5035                             ежедневно, 11:30–22:00 55.73 37.64    4.30   \n",
       "\n",
       "        price                avg_bill  middle_avg_bill  middle_coffee_cup  \\\n",
       "647       NaN                     NaN              NaN                NaN   \n",
       "4766      NaN                     NaN              NaN                NaN   \n",
       "5149  средние   Средний счёт:от 400 ₽           400.00                NaN   \n",
       "6693  средние  Средний счёт:100–599 ₽           349.00                NaN   \n",
       "5035  средние  Средний счёт:150–700 ₽           425.00                NaN   \n",
       "\n",
       "      chain  seats                              street is_24/7  \n",
       "647       0  40.00                      смольная улица   False  \n",
       "4766      1    NaN  центральный административный округ   False  \n",
       "5149      0  94.00                 стремянный переулок   False  \n",
       "6693      1    NaN                проспект вернадского   False  \n",
       "5035      0  45.00                  летниковская улица   False  "
      ]
     },
     "execution_count": 18,
     "metadata": {},
     "output_type": "execute_result"
    }
   ],
   "source": [
    "data['is_24/7'] = data['hours'].str.contains('ежедневно, круглосуточно')\n",
    "data.sample(5)"
   ]
  },
  {
   "cell_type": "markdown",
   "metadata": {},
   "source": [
    "- Мы посчитали пропуски, проверили дубликаты, убрали аномалии и создали новые столбцы, которые нам будут нужны для дальнейшего анализа."
   ]
  },
  {
   "cell_type": "markdown",
   "metadata": {},
   "source": [
    "## 3.  Анализ данных"
   ]
  },
  {
   "cell_type": "markdown",
   "metadata": {},
   "source": [
    "Какие категории заведений представлены в данных? Исследуем количество объектов общественного питания по категориям: рестораны, кофейни, пиццерии, бары и так далее. Построим визуализации."
   ]
  },
  {
   "cell_type": "code",
   "execution_count": 19,
   "metadata": {},
   "outputs": [
    {
     "data": {
      "text/html": [
       "<div>\n",
       "<style scoped>\n",
       "    .dataframe tbody tr th:only-of-type {\n",
       "        vertical-align: middle;\n",
       "    }\n",
       "\n",
       "    .dataframe tbody tr th {\n",
       "        vertical-align: top;\n",
       "    }\n",
       "\n",
       "    .dataframe thead th {\n",
       "        text-align: right;\n",
       "    }\n",
       "</style>\n",
       "<table border=\"1\" class=\"dataframe\">\n",
       "  <thead>\n",
       "    <tr style=\"text-align: right;\">\n",
       "      <th></th>\n",
       "      <th>категория</th>\n",
       "      <th>количество</th>\n",
       "    </tr>\n",
       "  </thead>\n",
       "  <tbody>\n",
       "    <tr>\n",
       "      <th>0</th>\n",
       "      <td>кафе</td>\n",
       "      <td>2362</td>\n",
       "    </tr>\n",
       "    <tr>\n",
       "      <th>1</th>\n",
       "      <td>ресторан</td>\n",
       "      <td>2030</td>\n",
       "    </tr>\n",
       "    <tr>\n",
       "      <th>2</th>\n",
       "      <td>кофейня</td>\n",
       "      <td>1401</td>\n",
       "    </tr>\n",
       "    <tr>\n",
       "      <th>3</th>\n",
       "      <td>бар,паб</td>\n",
       "      <td>754</td>\n",
       "    </tr>\n",
       "    <tr>\n",
       "      <th>4</th>\n",
       "      <td>пиццерия</td>\n",
       "      <td>629</td>\n",
       "    </tr>\n",
       "    <tr>\n",
       "      <th>5</th>\n",
       "      <td>быстрое питание</td>\n",
       "      <td>602</td>\n",
       "    </tr>\n",
       "    <tr>\n",
       "      <th>6</th>\n",
       "      <td>столовая</td>\n",
       "      <td>313</td>\n",
       "    </tr>\n",
       "    <tr>\n",
       "      <th>7</th>\n",
       "      <td>булочная</td>\n",
       "      <td>255</td>\n",
       "    </tr>\n",
       "  </tbody>\n",
       "</table>\n",
       "</div>"
      ],
      "text/plain": [
       "         категория  количество\n",
       "0             кафе        2362\n",
       "1         ресторан        2030\n",
       "2          кофейня        1401\n",
       "3          бар,паб         754\n",
       "4         пиццерия         629\n",
       "5  быстрое питание         602\n",
       "6         столовая         313\n",
       "7         булочная         255"
      ]
     },
     "execution_count": 19,
     "metadata": {},
     "output_type": "execute_result"
    }
   ],
   "source": [
    "category = data.groupby('category')['name'].count().sort_values(ascending=False).reset_index()\n",
    "category.columns = ['категория', 'количество']\n",
    "category"
   ]
  },
  {
   "cell_type": "code",
   "execution_count": null,
   "metadata": {
    "scrolled": false
   },
   "outputs": [],
   "source": [
    "fig = px.pie(category, \n",
    "             values='количество', \n",
    "             names='категория', \n",
    "             title='Категории объектов общественного питания', \n",
    "             color_discrete_sequence=px.colors.diverging.Portland)\n",
    "fig.show()"
   ]
  },
  {
   "cell_type": "markdown",
   "metadata": {},
   "source": [
    "<image src=\"https://i.pstorage.space/i/7m5abYkQ/original_1.PNG\" alt=\"\">"
   ]
  },
  {
   "cell_type": "markdown",
   "metadata": {},
   "source": [
    "- Больше половины всех заведений составляют кафе и рестораны. Третьими идут кофейни.\n",
    "- Самые непопулярные заведения - столовые и булочные."
   ]
  },
  {
   "cell_type": "markdown",
   "metadata": {},
   "source": [
    "Исследуем количество посадочных мест в местах по категориям: рестораны, кофейни, пиццерии, бары и так далее. Построим визуализации."
   ]
  },
  {
   "cell_type": "code",
   "execution_count": 20,
   "metadata": {},
   "outputs": [
    {
     "data": {
      "text/html": [
       "<div>\n",
       "<style scoped>\n",
       "    .dataframe tbody tr th:only-of-type {\n",
       "        vertical-align: middle;\n",
       "    }\n",
       "\n",
       "    .dataframe tbody tr th {\n",
       "        vertical-align: top;\n",
       "    }\n",
       "\n",
       "    .dataframe thead th {\n",
       "        text-align: right;\n",
       "    }\n",
       "</style>\n",
       "<table border=\"1\" class=\"dataframe\">\n",
       "  <thead>\n",
       "    <tr style=\"text-align: right;\">\n",
       "      <th></th>\n",
       "      <th>category</th>\n",
       "      <th>count</th>\n",
       "      <th>mean</th>\n",
       "      <th>std</th>\n",
       "      <th>min</th>\n",
       "      <th>25%</th>\n",
       "      <th>50%</th>\n",
       "      <th>75%</th>\n",
       "      <th>max</th>\n",
       "    </tr>\n",
       "  </thead>\n",
       "  <tbody>\n",
       "    <tr>\n",
       "      <th>0</th>\n",
       "      <td>бар,паб</td>\n",
       "      <td>457.00</td>\n",
       "      <td>108.95</td>\n",
       "      <td>93.28</td>\n",
       "      <td>0.00</td>\n",
       "      <td>47.00</td>\n",
       "      <td>80.00</td>\n",
       "      <td>140.00</td>\n",
       "      <td>480.00</td>\n",
       "    </tr>\n",
       "    <tr>\n",
       "      <th>1</th>\n",
       "      <td>булочная</td>\n",
       "      <td>147.00</td>\n",
       "      <td>85.74</td>\n",
       "      <td>87.35</td>\n",
       "      <td>0.00</td>\n",
       "      <td>25.00</td>\n",
       "      <td>50.00</td>\n",
       "      <td>120.00</td>\n",
       "      <td>478.00</td>\n",
       "    </tr>\n",
       "    <tr>\n",
       "      <th>2</th>\n",
       "      <td>быстрое питание</td>\n",
       "      <td>348.00</td>\n",
       "      <td>96.19</td>\n",
       "      <td>94.02</td>\n",
       "      <td>0.00</td>\n",
       "      <td>27.25</td>\n",
       "      <td>65.00</td>\n",
       "      <td>136.25</td>\n",
       "      <td>500.00</td>\n",
       "    </tr>\n",
       "    <tr>\n",
       "      <th>3</th>\n",
       "      <td>кафе</td>\n",
       "      <td>1203.00</td>\n",
       "      <td>89.42</td>\n",
       "      <td>88.81</td>\n",
       "      <td>0.00</td>\n",
       "      <td>35.00</td>\n",
       "      <td>60.00</td>\n",
       "      <td>105.50</td>\n",
       "      <td>500.00</td>\n",
       "    </tr>\n",
       "    <tr>\n",
       "      <th>4</th>\n",
       "      <td>кофейня</td>\n",
       "      <td>739.00</td>\n",
       "      <td>100.43</td>\n",
       "      <td>90.99</td>\n",
       "      <td>0.00</td>\n",
       "      <td>40.00</td>\n",
       "      <td>78.00</td>\n",
       "      <td>140.00</td>\n",
       "      <td>500.00</td>\n",
       "    </tr>\n",
       "    <tr>\n",
       "      <th>5</th>\n",
       "      <td>пиццерия</td>\n",
       "      <td>423.00</td>\n",
       "      <td>87.91</td>\n",
       "      <td>85.48</td>\n",
       "      <td>0.00</td>\n",
       "      <td>30.00</td>\n",
       "      <td>52.00</td>\n",
       "      <td>120.00</td>\n",
       "      <td>455.00</td>\n",
       "    </tr>\n",
       "    <tr>\n",
       "      <th>6</th>\n",
       "      <td>ресторан</td>\n",
       "      <td>1257.00</td>\n",
       "      <td>114.90</td>\n",
       "      <td>96.96</td>\n",
       "      <td>0.00</td>\n",
       "      <td>48.00</td>\n",
       "      <td>86.00</td>\n",
       "      <td>150.00</td>\n",
       "      <td>500.00</td>\n",
       "    </tr>\n",
       "    <tr>\n",
       "      <th>7</th>\n",
       "      <td>столовая</td>\n",
       "      <td>162.00</td>\n",
       "      <td>89.72</td>\n",
       "      <td>77.27</td>\n",
       "      <td>0.00</td>\n",
       "      <td>40.00</td>\n",
       "      <td>75.00</td>\n",
       "      <td>115.00</td>\n",
       "      <td>428.00</td>\n",
       "    </tr>\n",
       "  </tbody>\n",
       "</table>\n",
       "</div>"
      ],
      "text/plain": [
       "          category   count   mean   std  min   25%   50%    75%    max\n",
       "0          бар,паб  457.00 108.95 93.28 0.00 47.00 80.00 140.00 480.00\n",
       "1         булочная  147.00  85.74 87.35 0.00 25.00 50.00 120.00 478.00\n",
       "2  быстрое питание  348.00  96.19 94.02 0.00 27.25 65.00 136.25 500.00\n",
       "3             кафе 1203.00  89.42 88.81 0.00 35.00 60.00 105.50 500.00\n",
       "4          кофейня  739.00 100.43 90.99 0.00 40.00 78.00 140.00 500.00\n",
       "5         пиццерия  423.00  87.91 85.48 0.00 30.00 52.00 120.00 455.00\n",
       "6         ресторан 1257.00 114.90 96.96 0.00 48.00 86.00 150.00 500.00\n",
       "7         столовая  162.00  89.72 77.27 0.00 40.00 75.00 115.00 428.00"
      ]
     },
     "execution_count": 20,
     "metadata": {},
     "output_type": "execute_result"
    }
   ],
   "source": [
    "data.groupby('category')['seats'].describe().round(2).reset_index()"
   ]
  },
  {
   "cell_type": "code",
   "execution_count": 21,
   "metadata": {},
   "outputs": [],
   "source": [
    "seats_median = data[data['seats'] != 0].groupby('category')['seats'].median().reset_index().sort_values(by='seats', ascending=False).round(2)"
   ]
  },
  {
   "cell_type": "code",
   "execution_count": null,
   "metadata": {},
   "outputs": [],
   "source": [
    "fig = px.bar(seats_median,\n",
    "             x='category',\n",
    "             y='seats',\n",
    "             hover_data=['seats', 'category'],\n",
    "             color='seats',\n",
    "             color_discrete_sequence=px.colors.diverging.Portland,\n",
    "             labels={'pop':'Медианное количество посадочных мест в заведениях'},\n",
    "             height=500,\n",
    "             width=900)\n",
    "\n",
    "fig.update_layout(title='Медианное количество посадочных мест в заведениях',\n",
    "                   xaxis_title='Категория объекта',\n",
    "                   yaxis_title='Количество мест')\n",
    "fig.show()"
   ]
  },
  {
   "cell_type": "markdown",
   "metadata": {},
   "source": [
    "<image src=\"https://i.pstorage.space/i/pLpv4RXlK/original_2.PNG\" alt=\"\">"
   ]
  },
  {
   "cell_type": "markdown",
   "metadata": {},
   "source": [
    "- Больше всего посадочных мест в ресторанах. Второе место - бары, пабы. Третье - кофейни."
   ]
  },
  {
   "cell_type": "markdown",
   "metadata": {},
   "source": [
    "Рассмотрим и изобразим соотношение сетевых и несетевых заведений в датасете. Каких заведений больше?"
   ]
  },
  {
   "cell_type": "code",
   "execution_count": 22,
   "metadata": {},
   "outputs": [
    {
     "data": {
      "text/html": [
       "<div>\n",
       "<style scoped>\n",
       "    .dataframe tbody tr th:only-of-type {\n",
       "        vertical-align: middle;\n",
       "    }\n",
       "\n",
       "    .dataframe tbody tr th {\n",
       "        vertical-align: top;\n",
       "    }\n",
       "\n",
       "    .dataframe thead th {\n",
       "        text-align: right;\n",
       "    }\n",
       "</style>\n",
       "<table border=\"1\" class=\"dataframe\">\n",
       "  <thead>\n",
       "    <tr style=\"text-align: right;\">\n",
       "      <th></th>\n",
       "      <th>chain</th>\n",
       "      <th>count</th>\n",
       "    </tr>\n",
       "  </thead>\n",
       "  <tbody>\n",
       "    <tr>\n",
       "      <th>0</th>\n",
       "      <td>несетевые</td>\n",
       "      <td>5169</td>\n",
       "    </tr>\n",
       "    <tr>\n",
       "      <th>1</th>\n",
       "      <td>сетевые</td>\n",
       "      <td>3177</td>\n",
       "    </tr>\n",
       "  </tbody>\n",
       "</table>\n",
       "</div>"
      ],
      "text/plain": [
       "       chain  count\n",
       "0  несетевые   5169\n",
       "1    сетевые   3177"
      ]
     },
     "execution_count": 22,
     "metadata": {},
     "output_type": "execute_result"
    }
   ],
   "source": [
    "chain = data.groupby('chain')['name'].count().sort_values(ascending=False).reset_index()\n",
    "chain.columns = ['chain', 'count']\n",
    "chain = chain.replace([0, 1],['несетевые', 'сетевые'])\n",
    "chain"
   ]
  },
  {
   "cell_type": "code",
   "execution_count": null,
   "metadata": {},
   "outputs": [],
   "source": [
    "fig = px.pie(chain,\n",
    "             labels=['несетевые', 'сетевые'], \n",
    "             values='count',\n",
    "             names='chain',\n",
    "             title='Соотношение сетевых и несетевых заведений', \n",
    "             color_discrete_sequence=px.colors.diverging.Portland)\n",
    "fig.show()"
   ]
  },
  {
   "cell_type": "markdown",
   "metadata": {},
   "source": [
    "<image src=\"https://i.pstorage.space/i/m1Qg3lPO7/original_3.PNG\" alt=\"\">"
   ]
  },
  {
   "cell_type": "markdown",
   "metadata": {},
   "source": [
    "- Сетевых заведений 38%, несетевых - 62%."
   ]
  },
  {
   "cell_type": "markdown",
   "metadata": {},
   "source": [
    "Какие категории заведений чаще являются сетевыми? Исследуем данные и ответим на вопрос графиком."
   ]
  },
  {
   "cell_type": "code",
   "execution_count": 23,
   "metadata": {},
   "outputs": [],
   "source": [
    "chains = data.groupby(by=['category', 'chain'], as_index=False).agg(count=('name', 'count'))\n",
    "chains.loc[chains['chain'] == 0, 'chain'] = 'несетевые'\n",
    "chains.loc[chains['chain'] == 1, 'chain'] = 'сетевые'\n",
    "chains = chains.sort_values(by='count', ascending=True).reset_index(drop=True)"
   ]
  },
  {
   "cell_type": "code",
   "execution_count": null,
   "metadata": {},
   "outputs": [],
   "source": [
    "fig = px.bar(chains,\n",
    "             x='count',\n",
    "             y='category',\n",
    "             text= 'count',\n",
    "             color='chain',\n",
    "             color_discrete_sequence=px.colors.diverging.Portland,\n",
    "             height=500,\n",
    "             width=900\n",
    "             )\n",
    "fig.update_layout(title = 'Соотношение сетевых и несетевых заведений',\n",
    "                  xaxis_title = 'Количество заведений',\n",
    "                  yaxis_title = 'Категории')\n",
    "fig.show()"
   ]
  },
  {
   "cell_type": "markdown",
   "metadata": {},
   "source": [
    "<image src=\"https://i.pstorage.space/i/8yR0PXA7l/original_4.PNG\" alt=\"\">"
   ]
  },
  {
   "cell_type": "markdown",
   "metadata": {},
   "source": [
    "- Сетевыми чаще бывают пиццерии, кофейни и булочные.\n",
    "- Очень малая доля сетевых столовых и баров, пабов."
   ]
  },
  {
   "cell_type": "markdown",
   "metadata": {},
   "source": [
    "Сгруппируем данные по названиям заведений и найдём топ-15 популярных сетей в Москве. Под популярностью понимается количество заведений этой сети в регионе. Построим подходящую для такой информации визуализацию."
   ]
  },
  {
   "cell_type": "code",
   "execution_count": 24,
   "metadata": {},
   "outputs": [
    {
     "data": {
      "text/html": [
       "<div>\n",
       "<style scoped>\n",
       "    .dataframe tbody tr th:only-of-type {\n",
       "        vertical-align: middle;\n",
       "    }\n",
       "\n",
       "    .dataframe tbody tr th {\n",
       "        vertical-align: top;\n",
       "    }\n",
       "\n",
       "    .dataframe thead th {\n",
       "        text-align: right;\n",
       "    }\n",
       "</style>\n",
       "<table border=\"1\" class=\"dataframe\">\n",
       "  <thead>\n",
       "    <tr style=\"text-align: right;\">\n",
       "      <th></th>\n",
       "      <th>name</th>\n",
       "      <th>count</th>\n",
       "      <th>category</th>\n",
       "    </tr>\n",
       "  </thead>\n",
       "  <tbody>\n",
       "    <tr>\n",
       "      <th>0</th>\n",
       "      <td>шоколадница</td>\n",
       "      <td>118</td>\n",
       "      <td>кофейня</td>\n",
       "    </tr>\n",
       "    <tr>\n",
       "      <th>1</th>\n",
       "      <td>домино'с пицца</td>\n",
       "      <td>76</td>\n",
       "      <td>пиццерия</td>\n",
       "    </tr>\n",
       "    <tr>\n",
       "      <th>2</th>\n",
       "      <td>додо пицца</td>\n",
       "      <td>74</td>\n",
       "      <td>пиццерия</td>\n",
       "    </tr>\n",
       "    <tr>\n",
       "      <th>3</th>\n",
       "      <td>one price coffee</td>\n",
       "      <td>70</td>\n",
       "      <td>кофейня</td>\n",
       "    </tr>\n",
       "    <tr>\n",
       "      <th>4</th>\n",
       "      <td>яндекс лавка</td>\n",
       "      <td>68</td>\n",
       "      <td>ресторан</td>\n",
       "    </tr>\n",
       "    <tr>\n",
       "      <th>5</th>\n",
       "      <td>cofix</td>\n",
       "      <td>65</td>\n",
       "      <td>кофейня</td>\n",
       "    </tr>\n",
       "    <tr>\n",
       "      <th>6</th>\n",
       "      <td>prime</td>\n",
       "      <td>50</td>\n",
       "      <td>ресторан</td>\n",
       "    </tr>\n",
       "    <tr>\n",
       "      <th>7</th>\n",
       "      <td>хинкальная</td>\n",
       "      <td>44</td>\n",
       "      <td>быстрое питание</td>\n",
       "    </tr>\n",
       "    <tr>\n",
       "      <th>8</th>\n",
       "      <td>кофепорт</td>\n",
       "      <td>42</td>\n",
       "      <td>кофейня</td>\n",
       "    </tr>\n",
       "    <tr>\n",
       "      <th>9</th>\n",
       "      <td>теремок</td>\n",
       "      <td>38</td>\n",
       "      <td>ресторан</td>\n",
       "    </tr>\n",
       "    <tr>\n",
       "      <th>10</th>\n",
       "      <td>кулинарная лавка братьев караваевых</td>\n",
       "      <td>38</td>\n",
       "      <td>кафе</td>\n",
       "    </tr>\n",
       "    <tr>\n",
       "      <th>11</th>\n",
       "      <td>чайхана</td>\n",
       "      <td>37</td>\n",
       "      <td>кафе</td>\n",
       "    </tr>\n",
       "    <tr>\n",
       "      <th>12</th>\n",
       "      <td>cofefest</td>\n",
       "      <td>32</td>\n",
       "      <td>кофейня</td>\n",
       "    </tr>\n",
       "    <tr>\n",
       "      <th>13</th>\n",
       "      <td>буханка</td>\n",
       "      <td>32</td>\n",
       "      <td>булочная</td>\n",
       "    </tr>\n",
       "    <tr>\n",
       "      <th>14</th>\n",
       "      <td>му-му</td>\n",
       "      <td>27</td>\n",
       "      <td>кафе</td>\n",
       "    </tr>\n",
       "  </tbody>\n",
       "</table>\n",
       "</div>"
      ],
      "text/plain": [
       "                                   name  count         category\n",
       "0                           шоколадница    118          кофейня\n",
       "1                        домино'с пицца     76         пиццерия\n",
       "2                            додо пицца     74         пиццерия\n",
       "3                      one price coffee     70          кофейня\n",
       "4                          яндекс лавка     68         ресторан\n",
       "5                                 cofix     65          кофейня\n",
       "6                                 prime     50         ресторан\n",
       "7                            хинкальная     44  быстрое питание\n",
       "8                              кофепорт     42          кофейня\n",
       "9                               теремок     38         ресторан\n",
       "10  кулинарная лавка братьев караваевых     38             кафе\n",
       "11                              чайхана     37             кафе\n",
       "12                             cofefest     32          кофейня\n",
       "13                              буханка     32         булочная\n",
       "14                                му-му     27             кафе"
      ]
     },
     "execution_count": 24,
     "metadata": {},
     "output_type": "execute_result"
    }
   ],
   "source": [
    "data_chain = data[data['chain'] == 1]\n",
    "names = data_chain.pivot_table(index='name', values='category', aggfunc='count').reset_index()\n",
    "names.columns = ['name', 'count']\n",
    "names = names.sort_values(by='count', ascending=False).reset_index(drop=True).head(15)\n",
    "\n",
    "name_category = data[['name','category']]\n",
    "names = names.merge(name_category.drop_duplicates('name'),how='left', on='name')\n",
    "names"
   ]
  },
  {
   "cell_type": "code",
   "execution_count": 25,
   "metadata": {},
   "outputs": [
    {
     "data": {
      "text/plain": [
       "кофейня            5\n",
       "ресторан           3\n",
       "кафе               3\n",
       "пиццерия           2\n",
       "быстрое питание    1\n",
       "булочная           1\n",
       "Name: category, dtype: int64"
      ]
     },
     "execution_count": 25,
     "metadata": {},
     "output_type": "execute_result"
    }
   ],
   "source": [
    "names['category'].value_counts()"
   ]
  },
  {
   "cell_type": "code",
   "execution_count": null,
   "metadata": {},
   "outputs": [],
   "source": [
    "fig = px.bar(names,\n",
    "             x='count',\n",
    "             y='name',\n",
    "             text='count',\n",
    "             color='name',\n",
    "             color_discrete_sequence=px.colors.sequential.Plasma,\n",
    "             height=500,\n",
    "             width=900\n",
    "             )\n",
    "fig.update_layout(title = 'Топ-15 популярных сетей',\n",
    "                  xaxis_title = 'Количество заведений',\n",
    "                  yaxis_title = 'Названия заведений',\n",
    "                  showlegend = False)\n",
    "fig.show()"
   ]
  },
  {
   "cell_type": "markdown",
   "metadata": {},
   "source": [
    "<image src=\"https://i.pstorage.space/i/wRae6VoP8/original_5.PNG\" alt=\"\">"
   ]
  },
  {
   "cell_type": "markdown",
   "metadata": {},
   "source": [
    "- Самая популярная сеть с большим отрывом - Шоколадница.\n",
    "- Следом за ней идут Домино'с Пицца, Додо Пицца, One Price Coffee и Яндекс Лавка.\n",
    "- Треть из представленных в топе заведений - кофейни."
   ]
  },
  {
   "cell_type": "markdown",
   "metadata": {},
   "source": [
    "Какие административные районы Москвы присутствуют в датасете? Отобразим общее количество заведений и количество заведений каждой категории по районам."
   ]
  },
  {
   "cell_type": "code",
   "execution_count": 26,
   "metadata": {},
   "outputs": [
    {
     "data": {
      "text/html": [
       "<div>\n",
       "<style scoped>\n",
       "    .dataframe tbody tr th:only-of-type {\n",
       "        vertical-align: middle;\n",
       "    }\n",
       "\n",
       "    .dataframe tbody tr th {\n",
       "        vertical-align: top;\n",
       "    }\n",
       "\n",
       "    .dataframe thead th {\n",
       "        text-align: right;\n",
       "    }\n",
       "</style>\n",
       "<table border=\"1\" class=\"dataframe\">\n",
       "  <thead>\n",
       "    <tr style=\"text-align: right;\">\n",
       "      <th></th>\n",
       "      <th>район</th>\n",
       "      <th>количество</th>\n",
       "    </tr>\n",
       "  </thead>\n",
       "  <tbody>\n",
       "    <tr>\n",
       "      <th>0</th>\n",
       "      <td>Центральный административный округ</td>\n",
       "      <td>2242</td>\n",
       "    </tr>\n",
       "    <tr>\n",
       "      <th>1</th>\n",
       "      <td>Южный административный округ</td>\n",
       "      <td>891</td>\n",
       "    </tr>\n",
       "    <tr>\n",
       "      <th>2</th>\n",
       "      <td>Северо-Восточный административный округ</td>\n",
       "      <td>890</td>\n",
       "    </tr>\n",
       "    <tr>\n",
       "      <th>3</th>\n",
       "      <td>Северный административный округ</td>\n",
       "      <td>875</td>\n",
       "    </tr>\n",
       "    <tr>\n",
       "      <th>4</th>\n",
       "      <td>Западный административный округ</td>\n",
       "      <td>830</td>\n",
       "    </tr>\n",
       "    <tr>\n",
       "      <th>5</th>\n",
       "      <td>Восточный административный округ</td>\n",
       "      <td>789</td>\n",
       "    </tr>\n",
       "    <tr>\n",
       "      <th>6</th>\n",
       "      <td>Юго-Восточный административный округ</td>\n",
       "      <td>714</td>\n",
       "    </tr>\n",
       "    <tr>\n",
       "      <th>7</th>\n",
       "      <td>Юго-Западный административный округ</td>\n",
       "      <td>706</td>\n",
       "    </tr>\n",
       "    <tr>\n",
       "      <th>8</th>\n",
       "      <td>Северо-Западный административный округ</td>\n",
       "      <td>409</td>\n",
       "    </tr>\n",
       "  </tbody>\n",
       "</table>\n",
       "</div>"
      ],
      "text/plain": [
       "                                     район  количество\n",
       "0       Центральный административный округ        2242\n",
       "1             Южный административный округ         891\n",
       "2  Северо-Восточный административный округ         890\n",
       "3          Северный административный округ         875\n",
       "4          Западный административный округ         830\n",
       "5         Восточный административный округ         789\n",
       "6     Юго-Восточный административный округ         714\n",
       "7      Юго-Западный административный округ         706\n",
       "8   Северо-Западный административный округ         409"
      ]
     },
     "execution_count": 26,
     "metadata": {},
     "output_type": "execute_result"
    }
   ],
   "source": [
    "district = data.groupby('district')['name'].count().sort_values(ascending=False).reset_index()\n",
    "district.columns = ['район', 'количество']\n",
    "district"
   ]
  },
  {
   "cell_type": "code",
   "execution_count": null,
   "metadata": {},
   "outputs": [],
   "source": [
    "fig = px.bar(district,\n",
    "             x='количество',\n",
    "             y='район',\n",
    "             text='количество',\n",
    "             color='район',\n",
    "             color_discrete_sequence=px.colors.sequential.Plasma,\n",
    "             height=500,\n",
    "             width=900\n",
    "             )\n",
    "fig.update_layout(title = 'Количество заведений по административным районам',\n",
    "                  xaxis_title = 'Количество заведений',\n",
    "                  yaxis_title = 'Административный район',\n",
    "                  showlegend = False)\n",
    "fig.show()"
   ]
  },
  {
   "cell_type": "markdown",
   "metadata": {},
   "source": [
    "<image src=\"https://i.pstorage.space/i/7p5gPX7Xm/original_6.PNG\" alt=\"\">"
   ]
  },
  {
   "cell_type": "code",
   "execution_count": 27,
   "metadata": {},
   "outputs": [
    {
     "data": {
      "text/html": [
       "<div>\n",
       "<style scoped>\n",
       "    .dataframe tbody tr th:only-of-type {\n",
       "        vertical-align: middle;\n",
       "    }\n",
       "\n",
       "    .dataframe tbody tr th {\n",
       "        vertical-align: top;\n",
       "    }\n",
       "\n",
       "    .dataframe thead th {\n",
       "        text-align: right;\n",
       "    }\n",
       "</style>\n",
       "<table border=\"1\" class=\"dataframe\">\n",
       "  <thead>\n",
       "    <tr style=\"text-align: right;\">\n",
       "      <th></th>\n",
       "      <th>район</th>\n",
       "      <th>категория</th>\n",
       "      <th>количество</th>\n",
       "    </tr>\n",
       "  </thead>\n",
       "  <tbody>\n",
       "    <tr>\n",
       "      <th>0</th>\n",
       "      <td>Восточный административный округ</td>\n",
       "      <td>бар,паб</td>\n",
       "      <td>49</td>\n",
       "    </tr>\n",
       "    <tr>\n",
       "      <th>1</th>\n",
       "      <td>Восточный административный округ</td>\n",
       "      <td>булочная</td>\n",
       "      <td>25</td>\n",
       "    </tr>\n",
       "    <tr>\n",
       "      <th>2</th>\n",
       "      <td>Восточный административный округ</td>\n",
       "      <td>быстрое питание</td>\n",
       "      <td>70</td>\n",
       "    </tr>\n",
       "    <tr>\n",
       "      <th>3</th>\n",
       "      <td>Восточный административный округ</td>\n",
       "      <td>кафе</td>\n",
       "      <td>269</td>\n",
       "    </tr>\n",
       "    <tr>\n",
       "      <th>4</th>\n",
       "      <td>Восточный административный округ</td>\n",
       "      <td>кофейня</td>\n",
       "      <td>104</td>\n",
       "    </tr>\n",
       "  </tbody>\n",
       "</table>\n",
       "</div>"
      ],
      "text/plain": [
       "                              район        категория  количество\n",
       "0  Восточный административный округ          бар,паб          49\n",
       "1  Восточный административный округ         булочная          25\n",
       "2  Восточный административный округ  быстрое питание          70\n",
       "3  Восточный административный округ             кафе         269\n",
       "4  Восточный административный округ          кофейня         104"
      ]
     },
     "execution_count": 27,
     "metadata": {},
     "output_type": "execute_result"
    }
   ],
   "source": [
    "district2 = data.groupby(['district', 'category']).agg({'address' : 'count'}).reset_index()\n",
    "district2.columns = ['район', 'категория', 'количество']\n",
    "district2.head()"
   ]
  },
  {
   "cell_type": "code",
   "execution_count": null,
   "metadata": {
    "scrolled": false
   },
   "outputs": [],
   "source": [
    "fig = px.bar(district2,\n",
    "             x='количество',\n",
    "             y='район',          \n",
    "             color='категория',\n",
    "             color_discrete_sequence=px.colors.sequential.Plasma,\n",
    "             height=500,\n",
    "             width=900,\n",
    "            )\n",
    "fig.update_layout(title='Количество заведений каждой категории по районам',\n",
    "                   xaxis_title='Количество заведений',\n",
    "                   yaxis_title='Административный район',\n",
    "                   yaxis={'categoryorder':'total ascending'},\n",
    "                 )\n",
    "fig.show()"
   ]
  },
  {
   "cell_type": "markdown",
   "metadata": {},
   "source": [
    "<image src=\"https://i.pstorage.space/i/lvxozK6pd/original_7.PNG\" alt=\"\">"
   ]
  },
  {
   "cell_type": "markdown",
   "metadata": {},
   "source": [
    "- В ЦАО ожидаемо больше всего заведений - 2242 шт., это больше чем в два раза превосходит любой другой район.\n",
    "- Рестораны, кафе и кофейни преобладают везде, а в ЦАО ещё и бары с пабами."
   ]
  },
  {
   "cell_type": "markdown",
   "metadata": {},
   "source": [
    "Визуализируем распределение средних рейтингов по категориям заведений. Сильно ли различаются усреднённые рейтинги в разных типах общепита?"
   ]
  },
  {
   "cell_type": "code",
   "execution_count": 28,
   "metadata": {},
   "outputs": [
    {
     "data": {
      "text/html": [
       "<div>\n",
       "<style scoped>\n",
       "    .dataframe tbody tr th:only-of-type {\n",
       "        vertical-align: middle;\n",
       "    }\n",
       "\n",
       "    .dataframe tbody tr th {\n",
       "        vertical-align: top;\n",
       "    }\n",
       "\n",
       "    .dataframe thead th {\n",
       "        text-align: right;\n",
       "    }\n",
       "</style>\n",
       "<table border=\"1\" class=\"dataframe\">\n",
       "  <thead>\n",
       "    <tr style=\"text-align: right;\">\n",
       "      <th></th>\n",
       "      <th>категория</th>\n",
       "      <th>средний рейтинг</th>\n",
       "    </tr>\n",
       "  </thead>\n",
       "  <tbody>\n",
       "    <tr>\n",
       "      <th>0</th>\n",
       "      <td>бар,паб</td>\n",
       "      <td>4.39</td>\n",
       "    </tr>\n",
       "    <tr>\n",
       "      <th>1</th>\n",
       "      <td>пиццерия</td>\n",
       "      <td>4.30</td>\n",
       "    </tr>\n",
       "    <tr>\n",
       "      <th>2</th>\n",
       "      <td>ресторан</td>\n",
       "      <td>4.29</td>\n",
       "    </tr>\n",
       "    <tr>\n",
       "      <th>3</th>\n",
       "      <td>кофейня</td>\n",
       "      <td>4.28</td>\n",
       "    </tr>\n",
       "    <tr>\n",
       "      <th>4</th>\n",
       "      <td>булочная</td>\n",
       "      <td>4.27</td>\n",
       "    </tr>\n",
       "    <tr>\n",
       "      <th>5</th>\n",
       "      <td>столовая</td>\n",
       "      <td>4.21</td>\n",
       "    </tr>\n",
       "    <tr>\n",
       "      <th>6</th>\n",
       "      <td>кафе</td>\n",
       "      <td>4.12</td>\n",
       "    </tr>\n",
       "    <tr>\n",
       "      <th>7</th>\n",
       "      <td>быстрое питание</td>\n",
       "      <td>4.05</td>\n",
       "    </tr>\n",
       "  </tbody>\n",
       "</table>\n",
       "</div>"
      ],
      "text/plain": [
       "         категория  средний рейтинг\n",
       "0          бар,паб             4.39\n",
       "1         пиццерия             4.30\n",
       "2         ресторан             4.29\n",
       "3          кофейня             4.28\n",
       "4         булочная             4.27\n",
       "5         столовая             4.21\n",
       "6             кафе             4.12\n",
       "7  быстрое питание             4.05"
      ]
     },
     "execution_count": 28,
     "metadata": {},
     "output_type": "execute_result"
    }
   ],
   "source": [
    "rating = data.groupby('category')['rating'].mean().round(2).sort_values(ascending=False).reset_index()\n",
    "rating.columns = ['категория', 'средний рейтинг']\n",
    "rating"
   ]
  },
  {
   "cell_type": "code",
   "execution_count": null,
   "metadata": {},
   "outputs": [],
   "source": [
    "fig = px.bar(rating,\n",
    "             x='средний рейтинг',\n",
    "             y='категория',\n",
    "             text='средний рейтинг',\n",
    "             color='категория',\n",
    "             color_discrete_sequence=px.colors.sequential.Plasma,\n",
    "             height=500,\n",
    "             width=900\n",
    "             )\n",
    "fig.update_layout(title = 'Средний рейтинг заведений по категориям',\n",
    "                  xaxis_title = 'Средний рейтинг',\n",
    "                  yaxis_title = 'Категория заведения',\n",
    "                  showlegend = False)\n",
    "fig.update_xaxes(range=[4, 4.4])\n",
    "fig.show()"
   ]
  },
  {
   "cell_type": "markdown",
   "metadata": {},
   "source": [
    "<image src=\"https://i.pstorage.space/i/7m5abYlO/original_8.PNG\" alt=\"\">"
   ]
  },
  {
   "cell_type": "code",
   "execution_count": 29,
   "metadata": {},
   "outputs": [
    {
     "data": {
      "text/html": [
       "<div>\n",
       "<style scoped>\n",
       "    .dataframe tbody tr th:only-of-type {\n",
       "        vertical-align: middle;\n",
       "    }\n",
       "\n",
       "    .dataframe tbody tr th {\n",
       "        vertical-align: top;\n",
       "    }\n",
       "\n",
       "    .dataframe thead th {\n",
       "        text-align: right;\n",
       "    }\n",
       "</style>\n",
       "<table border=\"1\" class=\"dataframe\">\n",
       "  <thead>\n",
       "    <tr style=\"text-align: right;\">\n",
       "      <th></th>\n",
       "      <th>район</th>\n",
       "      <th>средний рейтинг</th>\n",
       "    </tr>\n",
       "  </thead>\n",
       "  <tbody>\n",
       "    <tr>\n",
       "      <th>0</th>\n",
       "      <td>Центральный административный округ</td>\n",
       "      <td>4.38</td>\n",
       "    </tr>\n",
       "    <tr>\n",
       "      <th>1</th>\n",
       "      <td>Северный административный округ</td>\n",
       "      <td>4.24</td>\n",
       "    </tr>\n",
       "    <tr>\n",
       "      <th>2</th>\n",
       "      <td>Северо-Западный административный округ</td>\n",
       "      <td>4.21</td>\n",
       "    </tr>\n",
       "    <tr>\n",
       "      <th>3</th>\n",
       "      <td>Западный административный округ</td>\n",
       "      <td>4.18</td>\n",
       "    </tr>\n",
       "    <tr>\n",
       "      <th>4</th>\n",
       "      <td>Южный административный округ</td>\n",
       "      <td>4.18</td>\n",
       "    </tr>\n",
       "    <tr>\n",
       "      <th>5</th>\n",
       "      <td>Восточный административный округ</td>\n",
       "      <td>4.17</td>\n",
       "    </tr>\n",
       "    <tr>\n",
       "      <th>6</th>\n",
       "      <td>Юго-Западный административный округ</td>\n",
       "      <td>4.17</td>\n",
       "    </tr>\n",
       "    <tr>\n",
       "      <th>7</th>\n",
       "      <td>Северо-Восточный административный округ</td>\n",
       "      <td>4.15</td>\n",
       "    </tr>\n",
       "    <tr>\n",
       "      <th>8</th>\n",
       "      <td>Юго-Восточный административный округ</td>\n",
       "      <td>4.10</td>\n",
       "    </tr>\n",
       "  </tbody>\n",
       "</table>\n",
       "</div>"
      ],
      "text/plain": [
       "                                     район  средний рейтинг\n",
       "0       Центральный административный округ             4.38\n",
       "1          Северный административный округ             4.24\n",
       "2   Северо-Западный административный округ             4.21\n",
       "3          Западный административный округ             4.18\n",
       "4             Южный административный округ             4.18\n",
       "5         Восточный административный округ             4.17\n",
       "6      Юго-Западный административный округ             4.17\n",
       "7  Северо-Восточный административный округ             4.15\n",
       "8     Юго-Восточный административный округ             4.10"
      ]
     },
     "execution_count": 29,
     "metadata": {},
     "output_type": "execute_result"
    }
   ],
   "source": [
    "rating_dist = data.groupby('district')['rating'].mean().round(2).sort_values(ascending=False).reset_index()\n",
    "rating_dist.columns = ['район', 'средний рейтинг']\n",
    "rating_dist"
   ]
  },
  {
   "cell_type": "code",
   "execution_count": null,
   "metadata": {},
   "outputs": [],
   "source": [
    "fig = px.bar(rating_dist,\n",
    "             x='средний рейтинг',\n",
    "             y='район',\n",
    "             text='средний рейтинг',\n",
    "             color='район',\n",
    "             color_discrete_sequence=px.colors.sequential.Plasma,\n",
    "             height=500,\n",
    "             width=900\n",
    "             )\n",
    "fig.update_layout(title = 'Средний рейтинг заведений по районам',\n",
    "                  xaxis_title = 'Средний рейтинг',\n",
    "                  yaxis_title = 'Административный район',\n",
    "                  showlegend = False)\n",
    "fig.update_xaxes(range=[4, 4.4])\n",
    "fig.show()"
   ]
  },
  {
   "cell_type": "markdown",
   "metadata": {},
   "source": [
    "<image src=\"https://i.pstorage.space/i/DegLPWRYW/original_9.PNG\" alt=\"\">"
   ]
  },
  {
   "cell_type": "markdown",
   "metadata": {},
   "source": [
    "Построим фоновую картограмму (хороплет) со средним рейтингом заведений каждого района."
   ]
  },
  {
   "cell_type": "code",
   "execution_count": null,
   "metadata": {
    "scrolled": false
   },
   "outputs": [],
   "source": [
    "# подключаем модуль для работы с JSON-форматом\n",
    "import json\n",
    "\n",
    "#state_geo = '/datasets/admin_level_geomap.geojson'\n",
    "\n",
    "# загружаем JSON-файл с границами округов Москвы\n",
    "try:\n",
    "     state_geo = 'C:/Users/salpa/Downloads/admin_level_geomap.geojson'\n",
    "except:\n",
    "     state_geo = '/datasets/admin_level_geomap.geojson'\n",
    "\n",
    "# moscow_lat - широта центра Москвы, moscow_lng - долгота центра Москвы\n",
    "moscow_lat, moscow_lng = 55.751244, 37.618423\n",
    "\n",
    "# создаём карту Москвы\n",
    "map_rating = Map(location=[moscow_lat, moscow_lng], zoom_start=10)\n",
    "\n",
    "# создаём хороплет с помощью конструктора Choropleth и добавляем его на карту\n",
    "Choropleth(\n",
    "    geo_data=state_geo,\n",
    "    data=rating_dist,\n",
    "    columns=['район', 'средний рейтинг'],\n",
    "    key_on='feature.name',\n",
    "    fill_color='YlGn',\n",
    "    fill_opacity=0.8,\n",
    "    legend_name='Средний рейтинг заведений по районам',\n",
    ").add_to(map_rating)\n",
    "\n",
    "# выводим карту\n",
    "map_rating"
   ]
  },
  {
   "cell_type": "markdown",
   "metadata": {},
   "source": [
    "<image src=\"https://i.pstorage.space/i/pLpv4RqeM/original_10.PNG\" alt=\"\">"
   ]
  },
  {
   "cell_type": "markdown",
   "metadata": {},
   "source": [
    "- Самый большой средний рейтинг - у баров, пабов, самый низкий - у заведений быстрого питания.\n",
    "- В ЦАО заведения оценены лучше чем в остальных районах. В ЮВАО наоборот - хуже всех.\n",
    "- Средний рейтинг находится в диапазоне от 4 до 4,4 баллов."
   ]
  },
  {
   "cell_type": "markdown",
   "metadata": {},
   "source": [
    "Отобразим все заведения датасета на карте с помощью кластеров средствами библиотеки `folium`."
   ]
  },
  {
   "cell_type": "code",
   "execution_count": null,
   "metadata": {},
   "outputs": [],
   "source": [
    "# создаём пустой кластер, добавляем его на карту\n",
    "marker_cluster = MarkerCluster().add_to(map_rating)\n",
    "\n",
    "# пишем функцию, которая принимает строку датафрейма,\n",
    "# создаёт маркер в текущей точке и добавляет его в кластер marker_cluster\n",
    "def create_clusters(row):\n",
    "    Marker(\n",
    "        [row['lat'], row['lng']],\n",
    "        popup=f\"{row['name']} {row['rating']}\",\n",
    "    ).add_to(marker_cluster)\n",
    "\n",
    "# применяем функцию create_clusters() к каждой строке датафрейма\n",
    "data.apply(create_clusters, axis=1)\n",
    "\n",
    "# выводим карту\n",
    "map_rating"
   ]
  },
  {
   "cell_type": "markdown",
   "metadata": {},
   "source": [
    "<image src=\"https://i.pstorage.space/i/NZYAP2y44/original_11.PNG\" alt=\"\">"
   ]
  },
  {
   "cell_type": "markdown",
   "metadata": {},
   "source": [
    "- Рейтинг зависит от многих параметров, в том числе и от района."
   ]
  },
  {
   "cell_type": "markdown",
   "metadata": {},
   "source": [
    "Найдём топ-15 улиц по количеству заведений. Построим график распределения количества заведений и их категорий по этим улицам."
   ]
  },
  {
   "cell_type": "code",
   "execution_count": 30,
   "metadata": {},
   "outputs": [
    {
     "data": {
      "text/html": [
       "<div>\n",
       "<style scoped>\n",
       "    .dataframe tbody tr th:only-of-type {\n",
       "        vertical-align: middle;\n",
       "    }\n",
       "\n",
       "    .dataframe tbody tr th {\n",
       "        vertical-align: top;\n",
       "    }\n",
       "\n",
       "    .dataframe thead th {\n",
       "        text-align: right;\n",
       "    }\n",
       "</style>\n",
       "<table border=\"1\" class=\"dataframe\">\n",
       "  <thead>\n",
       "    <tr style=\"text-align: right;\">\n",
       "      <th></th>\n",
       "      <th>улица</th>\n",
       "      <th>количество</th>\n",
       "    </tr>\n",
       "  </thead>\n",
       "  <tbody>\n",
       "    <tr>\n",
       "      <th>0</th>\n",
       "      <td>проспект мира</td>\n",
       "      <td>183</td>\n",
       "    </tr>\n",
       "    <tr>\n",
       "      <th>1</th>\n",
       "      <td>профсоюзная улица</td>\n",
       "      <td>122</td>\n",
       "    </tr>\n",
       "    <tr>\n",
       "      <th>2</th>\n",
       "      <td>ленинский проспект</td>\n",
       "      <td>107</td>\n",
       "    </tr>\n",
       "    <tr>\n",
       "      <th>3</th>\n",
       "      <td>проспект вернадского</td>\n",
       "      <td>97</td>\n",
       "    </tr>\n",
       "    <tr>\n",
       "      <th>4</th>\n",
       "      <td>дмитровское шоссе</td>\n",
       "      <td>88</td>\n",
       "    </tr>\n",
       "    <tr>\n",
       "      <th>5</th>\n",
       "      <td>каширское шоссе</td>\n",
       "      <td>77</td>\n",
       "    </tr>\n",
       "    <tr>\n",
       "      <th>6</th>\n",
       "      <td>варшавское шоссе</td>\n",
       "      <td>76</td>\n",
       "    </tr>\n",
       "    <tr>\n",
       "      <th>7</th>\n",
       "      <td>ленинградский проспект</td>\n",
       "      <td>72</td>\n",
       "    </tr>\n",
       "    <tr>\n",
       "      <th>8</th>\n",
       "      <td>ленинградское шоссе</td>\n",
       "      <td>70</td>\n",
       "    </tr>\n",
       "    <tr>\n",
       "      <th>9</th>\n",
       "      <td>мкад</td>\n",
       "      <td>65</td>\n",
       "    </tr>\n",
       "    <tr>\n",
       "      <th>10</th>\n",
       "      <td>люблинская улица</td>\n",
       "      <td>60</td>\n",
       "    </tr>\n",
       "    <tr>\n",
       "      <th>11</th>\n",
       "      <td>улица вавилова</td>\n",
       "      <td>55</td>\n",
       "    </tr>\n",
       "    <tr>\n",
       "      <th>12</th>\n",
       "      <td>кутузовский проспект</td>\n",
       "      <td>53</td>\n",
       "    </tr>\n",
       "    <tr>\n",
       "      <th>13</th>\n",
       "      <td>пятницкая улица</td>\n",
       "      <td>48</td>\n",
       "    </tr>\n",
       "    <tr>\n",
       "      <th>14</th>\n",
       "      <td>улица миклухо-маклая</td>\n",
       "      <td>47</td>\n",
       "    </tr>\n",
       "  </tbody>\n",
       "</table>\n",
       "</div>"
      ],
      "text/plain": [
       "                     улица  количество\n",
       "0            проспект мира         183\n",
       "1        профсоюзная улица         122\n",
       "2       ленинский проспект         107\n",
       "3     проспект вернадского          97\n",
       "4        дмитровское шоссе          88\n",
       "5          каширское шоссе          77\n",
       "6         варшавское шоссе          76\n",
       "7   ленинградский проспект          72\n",
       "8      ленинградское шоссе          70\n",
       "9                     мкад          65\n",
       "10        люблинская улица          60\n",
       "11          улица вавилова          55\n",
       "12    кутузовский проспект          53\n",
       "13         пятницкая улица          48\n",
       "14    улица миклухо-маклая          47"
      ]
     },
     "execution_count": 30,
     "metadata": {},
     "output_type": "execute_result"
    }
   ],
   "source": [
    "streets = data.pivot_table(index='street', values='name', aggfunc='count').reset_index()\n",
    "streets.columns = ['улица', 'количество']\n",
    "streets = streets.sort_values(by='количество', ascending=False).reset_index(drop=True).head(15)\n",
    "streets"
   ]
  },
  {
   "cell_type": "code",
   "execution_count": null,
   "metadata": {
    "scrolled": false
   },
   "outputs": [],
   "source": [
    "fig = px.bar(streets,\n",
    "             x='количество',\n",
    "             y='улица',\n",
    "             text='количество',\n",
    "             color='улица',\n",
    "             color_discrete_sequence=px.colors.sequential.Plasma,\n",
    "             height=500,\n",
    "             width=900\n",
    "             )\n",
    "fig.update_layout(title = 'Топ-15 улиц по количеству заведений',\n",
    "                  xaxis_title = 'Количество заведений',\n",
    "                  yaxis_title = 'Название улицы',\n",
    "                  showlegend = False)\n",
    "fig.show()"
   ]
  },
  {
   "cell_type": "markdown",
   "metadata": {},
   "source": [
    "<image src=\"https://i.pstorage.space/i/PAYLv8qb3/original_12.PNG\" alt=\"\">"
   ]
  },
  {
   "cell_type": "code",
   "execution_count": 31,
   "metadata": {},
   "outputs": [
    {
     "data": {
      "text/html": [
       "<div>\n",
       "<style scoped>\n",
       "    .dataframe tbody tr th:only-of-type {\n",
       "        vertical-align: middle;\n",
       "    }\n",
       "\n",
       "    .dataframe tbody tr th {\n",
       "        vertical-align: top;\n",
       "    }\n",
       "\n",
       "    .dataframe thead th {\n",
       "        text-align: right;\n",
       "    }\n",
       "</style>\n",
       "<table border=\"1\" class=\"dataframe\">\n",
       "  <thead>\n",
       "    <tr style=\"text-align: right;\">\n",
       "      <th></th>\n",
       "      <th>улица</th>\n",
       "      <th>категория</th>\n",
       "      <th>количество</th>\n",
       "    </tr>\n",
       "  </thead>\n",
       "  <tbody>\n",
       "    <tr>\n",
       "      <th>0</th>\n",
       "      <td>проспект мира</td>\n",
       "      <td>кафе</td>\n",
       "      <td>53</td>\n",
       "    </tr>\n",
       "    <tr>\n",
       "      <th>1</th>\n",
       "      <td>проспект мира</td>\n",
       "      <td>ресторан</td>\n",
       "      <td>45</td>\n",
       "    </tr>\n",
       "    <tr>\n",
       "      <th>2</th>\n",
       "      <td>мкад</td>\n",
       "      <td>кафе</td>\n",
       "      <td>45</td>\n",
       "    </tr>\n",
       "    <tr>\n",
       "      <th>3</th>\n",
       "      <td>проспект мира</td>\n",
       "      <td>кофейня</td>\n",
       "      <td>36</td>\n",
       "    </tr>\n",
       "    <tr>\n",
       "      <th>4</th>\n",
       "      <td>профсоюзная улица</td>\n",
       "      <td>кафе</td>\n",
       "      <td>35</td>\n",
       "    </tr>\n",
       "    <tr>\n",
       "      <th>...</th>\n",
       "      <td>...</td>\n",
       "      <td>...</td>\n",
       "      <td>...</td>\n",
       "    </tr>\n",
       "    <tr>\n",
       "      <th>106</th>\n",
       "      <td>кутузовский проспект</td>\n",
       "      <td>булочная</td>\n",
       "      <td>1</td>\n",
       "    </tr>\n",
       "    <tr>\n",
       "      <th>107</th>\n",
       "      <td>проспект вернадского</td>\n",
       "      <td>булочная</td>\n",
       "      <td>1</td>\n",
       "    </tr>\n",
       "    <tr>\n",
       "      <th>108</th>\n",
       "      <td>мкад</td>\n",
       "      <td>столовая</td>\n",
       "      <td>1</td>\n",
       "    </tr>\n",
       "    <tr>\n",
       "      <th>109</th>\n",
       "      <td>люблинская улица</td>\n",
       "      <td>пиццерия</td>\n",
       "      <td>1</td>\n",
       "    </tr>\n",
       "    <tr>\n",
       "      <th>110</th>\n",
       "      <td>мкад</td>\n",
       "      <td>бар,паб</td>\n",
       "      <td>1</td>\n",
       "    </tr>\n",
       "  </tbody>\n",
       "</table>\n",
       "<p>111 rows × 3 columns</p>\n",
       "</div>"
      ],
      "text/plain": [
       "                    улица категория  количество\n",
       "0           проспект мира      кафе          53\n",
       "1           проспект мира  ресторан          45\n",
       "2                    мкад      кафе          45\n",
       "3           проспект мира   кофейня          36\n",
       "4       профсоюзная улица      кафе          35\n",
       "..                    ...       ...         ...\n",
       "106  кутузовский проспект  булочная           1\n",
       "107  проспект вернадского  булочная           1\n",
       "108                  мкад  столовая           1\n",
       "109      люблинская улица  пиццерия           1\n",
       "110                  мкад   бар,паб           1\n",
       "\n",
       "[111 rows x 3 columns]"
      ]
     },
     "execution_count": 31,
     "metadata": {},
     "output_type": "execute_result"
    }
   ],
   "source": [
    "streets2 = data.groupby(['street', 'category']).agg({'name' : 'count'}).reset_index()\n",
    "streets2.columns = ['улица', 'категория', 'количество']\n",
    "\n",
    "streets_top15 = streets2[streets2['улица'].isin(streets['улица'])]\n",
    "streets_top15.sort_values(by='количество', ascending=False).reset_index(drop=True)"
   ]
  },
  {
   "cell_type": "code",
   "execution_count": null,
   "metadata": {},
   "outputs": [],
   "source": [
    "fig = px.bar(streets_top15,\n",
    "             x='количество',\n",
    "             y='улица',          \n",
    "             color='категория',\n",
    "             color_discrete_sequence=px.colors.sequential.Plasma,\n",
    "             height=500,\n",
    "             width=900,\n",
    "            )\n",
    "fig.update_layout(title='Количество заведений каждой категории по топ-15 улицам',\n",
    "                   xaxis_title='Количество заведений',\n",
    "                   yaxis_title='Название улицы',\n",
    "                   yaxis={'categoryorder':'total ascending'},\n",
    "                 )\n",
    "fig.show()"
   ]
  },
  {
   "cell_type": "markdown",
   "metadata": {},
   "source": [
    "<image src=\"https://i.pstorage.space/i/0by4PXapd/original_13.PNG\" alt=\"\">"
   ]
  },
  {
   "cell_type": "markdown",
   "metadata": {},
   "source": [
    "- Больше всего заведений расположено на длинных артериальных улицах, которые берут начало от Садового кольца и идут как правило до самого МКАДа: Проспект Мира, Профсоюзная, Ленинский проспект, Проспект Вернадского, Дмитровское шоссе.\n",
    "- На них больше всего заведений типа ресторан, кафе и кофейня."
   ]
  },
  {
   "cell_type": "markdown",
   "metadata": {},
   "source": [
    "Найдём улицы, на которых находится только один объект общепита."
   ]
  },
  {
   "cell_type": "code",
   "execution_count": 32,
   "metadata": {},
   "outputs": [
    {
     "data": {
      "text/html": [
       "<div>\n",
       "<style scoped>\n",
       "    .dataframe tbody tr th:only-of-type {\n",
       "        vertical-align: middle;\n",
       "    }\n",
       "\n",
       "    .dataframe tbody tr th {\n",
       "        vertical-align: top;\n",
       "    }\n",
       "\n",
       "    .dataframe thead th {\n",
       "        text-align: right;\n",
       "    }\n",
       "</style>\n",
       "<table border=\"1\" class=\"dataframe\">\n",
       "  <thead>\n",
       "    <tr style=\"text-align: right;\">\n",
       "      <th></th>\n",
       "      <th>street</th>\n",
       "      <th>count</th>\n",
       "      <th>category</th>\n",
       "    </tr>\n",
       "  </thead>\n",
       "  <tbody>\n",
       "    <tr>\n",
       "      <th>0</th>\n",
       "      <td>1-й автозаводский проезд</td>\n",
       "      <td>1</td>\n",
       "      <td>кафе</td>\n",
       "    </tr>\n",
       "    <tr>\n",
       "      <th>1</th>\n",
       "      <td>1-й балтийский переулок</td>\n",
       "      <td>1</td>\n",
       "      <td>ресторан</td>\n",
       "    </tr>\n",
       "    <tr>\n",
       "      <th>2</th>\n",
       "      <td>1-й варшавский проезд</td>\n",
       "      <td>1</td>\n",
       "      <td>кафе</td>\n",
       "    </tr>\n",
       "    <tr>\n",
       "      <th>3</th>\n",
       "      <td>1-й вешняковский проезд</td>\n",
       "      <td>1</td>\n",
       "      <td>кафе</td>\n",
       "    </tr>\n",
       "    <tr>\n",
       "      <th>4</th>\n",
       "      <td>1-й голутвинский переулок</td>\n",
       "      <td>1</td>\n",
       "      <td>бар,паб</td>\n",
       "    </tr>\n",
       "    <tr>\n",
       "      <th>...</th>\n",
       "      <td>...</td>\n",
       "      <td>...</td>\n",
       "      <td>...</td>\n",
       "    </tr>\n",
       "    <tr>\n",
       "      <th>452</th>\n",
       "      <td>электрический переулок</td>\n",
       "      <td>1</td>\n",
       "      <td>столовая</td>\n",
       "    </tr>\n",
       "    <tr>\n",
       "      <th>453</th>\n",
       "      <td>юго-западный административный округ</td>\n",
       "      <td>1</td>\n",
       "      <td>кафе</td>\n",
       "    </tr>\n",
       "    <tr>\n",
       "      <th>454</th>\n",
       "      <td>якиманский переулок</td>\n",
       "      <td>1</td>\n",
       "      <td>кафе</td>\n",
       "    </tr>\n",
       "    <tr>\n",
       "      <th>455</th>\n",
       "      <td>яковоапостольский переулок</td>\n",
       "      <td>1</td>\n",
       "      <td>кофейня</td>\n",
       "    </tr>\n",
       "    <tr>\n",
       "      <th>456</th>\n",
       "      <td>№ 7</td>\n",
       "      <td>1</td>\n",
       "      <td>кафе</td>\n",
       "    </tr>\n",
       "  </tbody>\n",
       "</table>\n",
       "<p>457 rows × 3 columns</p>\n",
       "</div>"
      ],
      "text/plain": [
       "                                  street  count  category\n",
       "0               1-й автозаводский проезд      1      кафе\n",
       "1                1-й балтийский переулок      1  ресторан\n",
       "2                  1-й варшавский проезд      1      кафе\n",
       "3                1-й вешняковский проезд      1      кафе\n",
       "4              1-й голутвинский переулок      1   бар,паб\n",
       "..                                   ...    ...       ...\n",
       "452               электрический переулок      1  столовая\n",
       "453  юго-западный административный округ      1      кафе\n",
       "454                  якиманский переулок      1      кафе\n",
       "455           яковоапостольский переулок      1   кофейня\n",
       "456                                  № 7      1      кафе\n",
       "\n",
       "[457 rows x 3 columns]"
      ]
     },
     "execution_count": 32,
     "metadata": {},
     "output_type": "execute_result"
    }
   ],
   "source": [
    "street_one = data.pivot_table(index='street', values='name', aggfunc='count').reset_index()\n",
    "street_one.columns = ['street', 'count']\n",
    "street_one = street_one.query('count == 1').reset_index(drop=True)\n",
    "\n",
    "street_category = data[['street','category']]\n",
    "street_one = street_one.merge(street_category.drop_duplicates('street'),how='left', on='street')\n",
    "street_one"
   ]
  },
  {
   "cell_type": "code",
   "execution_count": 33,
   "metadata": {},
   "outputs": [
    {
     "data": {
      "text/plain": [
       "кафе               159\n",
       "ресторан            93\n",
       "кофейня             84\n",
       "бар,паб             39\n",
       "столовая            36\n",
       "быстрое питание     23\n",
       "пиццерия            15\n",
       "булочная             8\n",
       "Name: category, dtype: int64"
      ]
     },
     "execution_count": 33,
     "metadata": {},
     "output_type": "execute_result"
    }
   ],
   "source": [
    "street_one['category'].value_counts()"
   ]
  },
  {
   "cell_type": "markdown",
   "metadata": {},
   "source": [
    "- На 457 улицах расположено только одно заведение.\n",
    "- Чаще всего это кафе, далее идут рестораны и кофейни. Остальных категорий гораздо меньше.\n",
    "- Скорее всего это улицы/переулки, на которых физически может разместиться только один объект."
   ]
  },
  {
   "cell_type": "markdown",
   "metadata": {},
   "source": [
    "Значения средних чеков заведений хранятся в столбце `middle_avg_bill`. Эти числа показывают примерную стоимость заказа в рублях, которая чаще всего выражена диапазоном. Посчитаем медиану этого столбца для каждого района. Используем это значение в качестве ценового индикатора района. Построим фоновую картограмму (хороплет) с полученными значениями для каждого района."
   ]
  },
  {
   "cell_type": "code",
   "execution_count": 34,
   "metadata": {},
   "outputs": [
    {
     "data": {
      "text/html": [
       "<div>\n",
       "<style scoped>\n",
       "    .dataframe tbody tr th:only-of-type {\n",
       "        vertical-align: middle;\n",
       "    }\n",
       "\n",
       "    .dataframe tbody tr th {\n",
       "        vertical-align: top;\n",
       "    }\n",
       "\n",
       "    .dataframe thead th {\n",
       "        text-align: right;\n",
       "    }\n",
       "</style>\n",
       "<table border=\"1\" class=\"dataframe\">\n",
       "  <thead>\n",
       "    <tr style=\"text-align: right;\">\n",
       "      <th></th>\n",
       "      <th>район</th>\n",
       "      <th>средний чек</th>\n",
       "    </tr>\n",
       "  </thead>\n",
       "  <tbody>\n",
       "    <tr>\n",
       "      <th>0</th>\n",
       "      <td>Западный административный округ</td>\n",
       "      <td>1000.00</td>\n",
       "    </tr>\n",
       "    <tr>\n",
       "      <th>1</th>\n",
       "      <td>Центральный административный округ</td>\n",
       "      <td>1000.00</td>\n",
       "    </tr>\n",
       "    <tr>\n",
       "      <th>2</th>\n",
       "      <td>Северо-Западный административный округ</td>\n",
       "      <td>700.00</td>\n",
       "    </tr>\n",
       "    <tr>\n",
       "      <th>3</th>\n",
       "      <td>Северный административный округ</td>\n",
       "      <td>650.00</td>\n",
       "    </tr>\n",
       "    <tr>\n",
       "      <th>4</th>\n",
       "      <td>Юго-Западный административный округ</td>\n",
       "      <td>600.00</td>\n",
       "    </tr>\n",
       "    <tr>\n",
       "      <th>5</th>\n",
       "      <td>Восточный административный округ</td>\n",
       "      <td>550.00</td>\n",
       "    </tr>\n",
       "    <tr>\n",
       "      <th>6</th>\n",
       "      <td>Северо-Восточный административный округ</td>\n",
       "      <td>500.00</td>\n",
       "    </tr>\n",
       "    <tr>\n",
       "      <th>7</th>\n",
       "      <td>Южный административный округ</td>\n",
       "      <td>500.00</td>\n",
       "    </tr>\n",
       "    <tr>\n",
       "      <th>8</th>\n",
       "      <td>Юго-Восточный административный округ</td>\n",
       "      <td>450.00</td>\n",
       "    </tr>\n",
       "  </tbody>\n",
       "</table>\n",
       "</div>"
      ],
      "text/plain": [
       "                                     район  средний чек\n",
       "0          Западный административный округ      1000.00\n",
       "1       Центральный административный округ      1000.00\n",
       "2   Северо-Западный административный округ       700.00\n",
       "3          Северный административный округ       650.00\n",
       "4      Юго-Западный административный округ       600.00\n",
       "5         Восточный административный округ       550.00\n",
       "6  Северо-Восточный административный округ       500.00\n",
       "7             Южный административный округ       500.00\n",
       "8     Юго-Восточный административный округ       450.00"
      ]
     },
     "execution_count": 34,
     "metadata": {},
     "output_type": "execute_result"
    }
   ],
   "source": [
    "median_bill_dist = data.groupby('district')['middle_avg_bill'].median().sort_values(ascending=False).reset_index()\n",
    "median_bill_dist.columns = ['район', 'средний чек']\n",
    "median_bill_dist"
   ]
  },
  {
   "cell_type": "code",
   "execution_count": null,
   "metadata": {},
   "outputs": [],
   "source": [
    "# создаём карту Москвы\n",
    "map_price = Map(location=[moscow_lat, moscow_lng], zoom_start=10)\n",
    "\n",
    "# создаём хороплет с помощью конструктора Choropleth и добавляем его на карту\n",
    "Choropleth(\n",
    "    geo_data=state_geo,\n",
    "    data=median_bill_dist,\n",
    "    columns=['район', 'средний чек'],\n",
    "    key_on='feature.name',\n",
    "    fill_color='YlGn',\n",
    "    fill_opacity=0.8,\n",
    "    legend_name='Медианный средний чек заведений по районам',\n",
    ").add_to(map_price)\n",
    "\n",
    "# выводим карту\n",
    "map_price"
   ]
  },
  {
   "cell_type": "markdown",
   "metadata": {},
   "source": [
    "<image src=\"https://i.pstorage.space/i/ZqNv571q6/original_14.PNG\" alt=\"\">"
   ]
  },
  {
   "cell_type": "markdown",
   "metadata": {},
   "source": [
    "- Самые большие чеки у заведений в ЦАО и ЗАО (1000р.). Центр понятно, а вот запад сперва может удивить, но нужно понимать, что в ЗАО входят такие совсем не бюджетные локации как Москва-Сити и аэропорт Внуково.\n",
    "- Дешевле всего в ЮВАО, ЮАО и СВАО."
   ]
  },
  {
   "cell_type": "markdown",
   "metadata": {},
   "source": [
    "Исследуем количество круглосуточных заведений."
   ]
  },
  {
   "cell_type": "code",
   "execution_count": 35,
   "metadata": {},
   "outputs": [
    {
     "data": {
      "text/html": [
       "<div>\n",
       "<style scoped>\n",
       "    .dataframe tbody tr th:only-of-type {\n",
       "        vertical-align: middle;\n",
       "    }\n",
       "\n",
       "    .dataframe tbody tr th {\n",
       "        vertical-align: top;\n",
       "    }\n",
       "\n",
       "    .dataframe thead th {\n",
       "        text-align: right;\n",
       "    }\n",
       "</style>\n",
       "<table border=\"1\" class=\"dataframe\">\n",
       "  <thead>\n",
       "    <tr style=\"text-align: right;\">\n",
       "      <th></th>\n",
       "      <th>район</th>\n",
       "      <th>количество</th>\n",
       "    </tr>\n",
       "  </thead>\n",
       "  <tbody>\n",
       "    <tr>\n",
       "      <th>0</th>\n",
       "      <td>Центральный административный округ</td>\n",
       "      <td>131</td>\n",
       "    </tr>\n",
       "    <tr>\n",
       "      <th>1</th>\n",
       "      <td>Восточный административный округ</td>\n",
       "      <td>97</td>\n",
       "    </tr>\n",
       "    <tr>\n",
       "      <th>2</th>\n",
       "      <td>Юго-Восточный административный округ</td>\n",
       "      <td>93</td>\n",
       "    </tr>\n",
       "    <tr>\n",
       "      <th>3</th>\n",
       "      <td>Северо-Восточный административный округ</td>\n",
       "      <td>75</td>\n",
       "    </tr>\n",
       "    <tr>\n",
       "      <th>4</th>\n",
       "      <td>Южный административный округ</td>\n",
       "      <td>75</td>\n",
       "    </tr>\n",
       "    <tr>\n",
       "      <th>5</th>\n",
       "      <td>Юго-Западный административный округ</td>\n",
       "      <td>73</td>\n",
       "    </tr>\n",
       "    <tr>\n",
       "      <th>6</th>\n",
       "      <td>Западный административный округ</td>\n",
       "      <td>70</td>\n",
       "    </tr>\n",
       "    <tr>\n",
       "      <th>7</th>\n",
       "      <td>Северный административный округ</td>\n",
       "      <td>70</td>\n",
       "    </tr>\n",
       "    <tr>\n",
       "      <th>8</th>\n",
       "      <td>Северо-Западный административный округ</td>\n",
       "      <td>43</td>\n",
       "    </tr>\n",
       "  </tbody>\n",
       "</table>\n",
       "</div>"
      ],
      "text/plain": [
       "                                     район  количество\n",
       "0       Центральный административный округ         131\n",
       "1         Восточный административный округ          97\n",
       "2     Юго-Восточный административный округ          93\n",
       "3  Северо-Восточный административный округ          75\n",
       "4             Южный административный округ          75\n",
       "5      Юго-Западный административный округ          73\n",
       "6          Западный административный округ          70\n",
       "7          Северный административный округ          70\n",
       "8   Северо-Западный административный округ          43"
      ]
     },
     "execution_count": 35,
     "metadata": {},
     "output_type": "execute_result"
    }
   ],
   "source": [
    "allnight = data[data['is_24/7'] == True]\n",
    "\n",
    "allnight_dist = allnight.groupby('district')['name'].count().sort_values(ascending=False).reset_index()\n",
    "allnight_dist.columns = ['район', 'количество']\n",
    "allnight_dist"
   ]
  },
  {
   "cell_type": "code",
   "execution_count": null,
   "metadata": {
    "scrolled": false
   },
   "outputs": [],
   "source": [
    "# создаём карту Москвы\n",
    "map_24h = Map(location=[moscow_lat, moscow_lng], zoom_start=10)\n",
    "\n",
    "# создаём хороплет с помощью конструктора Choropleth и добавляем его на карту\n",
    "Choropleth(\n",
    "    geo_data=state_geo,\n",
    "    data=allnight_dist,\n",
    "    columns=['район', 'количество'],\n",
    "    key_on='feature.name',\n",
    "    fill_color='YlGn',\n",
    "    fill_opacity=0.8,\n",
    "    legend_name='Количество круглосуточных заведений по районам',\n",
    ").add_to(map_24h)\n",
    "\n",
    "# выводим карту\n",
    "map_24h"
   ]
  },
  {
   "cell_type": "markdown",
   "metadata": {},
   "source": [
    "<image src=\"https://i.pstorage.space/i/bog3Vwa6q/original_15.PNG\" alt=\"\">"
   ]
  },
  {
   "cell_type": "markdown",
   "metadata": {},
   "source": [
    "**Общий вывод:**\n",
    "<br/>\n",
    "- Больше всего заведений в категориях кафе, рестораны и кофейни.\n",
    "- По количеству посадочных мест лидируют рестораны. Затем идут бары, пабы и кофейни.\n",
    "- Сетевых заведений в исследовании 38%, несетевых - 62%.\n",
    "- Сетевыми чаще бывают пиццерии, кофейни и булочные.\n",
    "- Топ-3 самых популярных сетей: Шоколадница, Домино'с Пицца, Додо Пицца.\n",
    "- Больше всего заведений в ЦАО (в два раза больше любого другого района), в нём в отличие от других районов доминируют рестораны.\n",
    "- Бары, пабы как правило получают самые высокие средние оценки, заведения быстрого питания - самые низкие.\n",
    "- Лучший средний рейтинг у заведений в ЦАО, худший - в ЮВАО.\n",
    "- Больше всего заведений располагаются на самых протяжённых улицах - Проспект Мира, Профсоюзная, Ленинский проспект.\n",
    "- Самый высокий средний чек забирают ЦАО и ЗАО. Самый низкий - ЮВАО.\n",
    "- Круглосуточных заведений больше всего в ЦАО, меньше - в СЗАО."
   ]
  },
  {
   "cell_type": "markdown",
   "metadata": {},
   "source": [
    "## 4. Детализация исследования"
   ]
  },
  {
   "cell_type": "markdown",
   "metadata": {},
   "source": [
    "Основателям фонда «Shut Up and Take My Money» не даёт покоя успех сериала «Друзья». Их мечта — открыть такую же крутую и доступную, как «Central Perk», кофейню в Москве. Будем считать, что заказчики не боятся конкуренции в этой сфере, ведь кофеен в больших городах уже достаточно. Попробуйте определить, осуществима ли мечта клиентов."
   ]
  },
  {
   "cell_type": "markdown",
   "metadata": {},
   "source": [
    "Сколько всего кофеен в датасете? В каких районах их больше всего, каковы особенности их расположения?"
   ]
  },
  {
   "cell_type": "code",
   "execution_count": 36,
   "metadata": {},
   "outputs": [
    {
     "name": "stdout",
     "output_type": "stream",
     "text": [
      "Всего кофеен: 1401\n"
     ]
    }
   ],
   "source": [
    "coffeehouses = data.query(\"category.isin(['кофейня'])\")\n",
    "print('Всего кофеен:', len(coffeehouses))"
   ]
  },
  {
   "cell_type": "code",
   "execution_count": 37,
   "metadata": {},
   "outputs": [
    {
     "data": {
      "text/html": [
       "<div>\n",
       "<style scoped>\n",
       "    .dataframe tbody tr th:only-of-type {\n",
       "        vertical-align: middle;\n",
       "    }\n",
       "\n",
       "    .dataframe tbody tr th {\n",
       "        vertical-align: top;\n",
       "    }\n",
       "\n",
       "    .dataframe thead th {\n",
       "        text-align: right;\n",
       "    }\n",
       "</style>\n",
       "<table border=\"1\" class=\"dataframe\">\n",
       "  <thead>\n",
       "    <tr style=\"text-align: right;\">\n",
       "      <th></th>\n",
       "      <th>район</th>\n",
       "      <th>количество</th>\n",
       "    </tr>\n",
       "  </thead>\n",
       "  <tbody>\n",
       "    <tr>\n",
       "      <th>0</th>\n",
       "      <td>Центральный административный округ</td>\n",
       "      <td>428</td>\n",
       "    </tr>\n",
       "    <tr>\n",
       "      <th>1</th>\n",
       "      <td>Северный административный округ</td>\n",
       "      <td>186</td>\n",
       "    </tr>\n",
       "    <tr>\n",
       "      <th>2</th>\n",
       "      <td>Северо-Восточный административный округ</td>\n",
       "      <td>159</td>\n",
       "    </tr>\n",
       "    <tr>\n",
       "      <th>3</th>\n",
       "      <td>Западный административный округ</td>\n",
       "      <td>146</td>\n",
       "    </tr>\n",
       "    <tr>\n",
       "      <th>4</th>\n",
       "      <td>Южный административный округ</td>\n",
       "      <td>131</td>\n",
       "    </tr>\n",
       "    <tr>\n",
       "      <th>5</th>\n",
       "      <td>Восточный административный округ</td>\n",
       "      <td>104</td>\n",
       "    </tr>\n",
       "    <tr>\n",
       "      <th>6</th>\n",
       "      <td>Юго-Западный административный округ</td>\n",
       "      <td>96</td>\n",
       "    </tr>\n",
       "    <tr>\n",
       "      <th>7</th>\n",
       "      <td>Юго-Восточный административный округ</td>\n",
       "      <td>89</td>\n",
       "    </tr>\n",
       "    <tr>\n",
       "      <th>8</th>\n",
       "      <td>Северо-Западный административный округ</td>\n",
       "      <td>62</td>\n",
       "    </tr>\n",
       "  </tbody>\n",
       "</table>\n",
       "</div>"
      ],
      "text/plain": [
       "                                     район  количество\n",
       "0       Центральный административный округ         428\n",
       "1          Северный административный округ         186\n",
       "2  Северо-Восточный административный округ         159\n",
       "3          Западный административный округ         146\n",
       "4             Южный административный округ         131\n",
       "5         Восточный административный округ         104\n",
       "6      Юго-Западный административный округ          96\n",
       "7     Юго-Восточный административный округ          89\n",
       "8   Северо-Западный административный округ          62"
      ]
     },
     "execution_count": 37,
     "metadata": {},
     "output_type": "execute_result"
    }
   ],
   "source": [
    "coffeehouses_dist = coffeehouses.groupby('district')['name'].count().sort_values(ascending=False).reset_index()\n",
    "coffeehouses_dist.columns = ['район', 'количество']\n",
    "coffeehouses_dist"
   ]
  },
  {
   "cell_type": "code",
   "execution_count": null,
   "metadata": {},
   "outputs": [],
   "source": [
    "# создаём карту Москвы\n",
    "map_coffeehouses = Map(location=[moscow_lat, moscow_lng], zoom_start=10)\n",
    "\n",
    "# создаём хороплет с помощью конструктора Choropleth и добавляем его на карту\n",
    "Choropleth(\n",
    "    geo_data=state_geo,\n",
    "    data=coffeehouses_dist,\n",
    "    columns=['район', 'количество'],\n",
    "    key_on='feature.name',\n",
    "    fill_color='YlGn',\n",
    "    fill_opacity=0.8,\n",
    "    legend_name='Количество кофеен по районам',\n",
    ").add_to(map_coffeehouses)\n",
    "\n",
    "# выводим карту\n",
    "map_coffeehouses"
   ]
  },
  {
   "cell_type": "markdown",
   "metadata": {},
   "source": [
    "<image src=\"https://i.pstorage.space/i/ab0K82l0b/original_16.PNG\" alt=\"\">"
   ]
  },
  {
   "cell_type": "code",
   "execution_count": null,
   "metadata": {},
   "outputs": [],
   "source": [
    "# создаём пустой кластер, добавляем его на карту\n",
    "marker_cluster = MarkerCluster().add_to(map_coffeehouses)\n",
    "\n",
    "# пишем функцию, которая принимает строку датафрейма,\n",
    "# создаёт маркер в текущей точке и добавляет его в кластер marker_cluster\n",
    "def create_clusters(row):\n",
    "    Marker(\n",
    "        [row['lat'], row['lng']],\n",
    "        popup=f\"{row['name']} {row['rating']}\",\n",
    "    ).add_to(marker_cluster)\n",
    "\n",
    "# применяем функцию create_clusters() к каждой строке датафрейма\n",
    "coffeehouses.apply(create_clusters, axis=1)\n",
    "\n",
    "# выводим карту\n",
    "map_coffeehouses"
   ]
  },
  {
   "cell_type": "markdown",
   "metadata": {},
   "source": [
    "<image src=\"https://i.pstorage.space/i/vel7W8qvb/original_17.PNG\" alt=\"\">"
   ]
  },
  {
   "cell_type": "markdown",
   "metadata": {},
   "source": [
    "- Всего в датасете 1401 кофейня.\n",
    "- В ЦАО их больше чем в любом другом районе - 428, следом САО (186) и СВАО (159).\n",
    "- В ЮЗАО, ЮВАО и СЗАО их количество самое низкое и не достигает даже 100 штук на район."
   ]
  },
  {
   "cell_type": "markdown",
   "metadata": {},
   "source": [
    "Есть ли круглосуточные кофейни?"
   ]
  },
  {
   "cell_type": "code",
   "execution_count": 38,
   "metadata": {
    "scrolled": true
   },
   "outputs": [
    {
     "name": "stdout",
     "output_type": "stream",
     "text": [
      "Всего круглосуточных кофеен: 59\n"
     ]
    }
   ],
   "source": [
    "coffeehouses_24h = coffeehouses[coffeehouses['is_24/7'] == True]\n",
    "print('Всего круглосуточных кофеен:', len(coffeehouses_24h))"
   ]
  },
  {
   "cell_type": "code",
   "execution_count": 39,
   "metadata": {
    "scrolled": false
   },
   "outputs": [
    {
     "data": {
      "text/html": [
       "<div>\n",
       "<style scoped>\n",
       "    .dataframe tbody tr th:only-of-type {\n",
       "        vertical-align: middle;\n",
       "    }\n",
       "\n",
       "    .dataframe tbody tr th {\n",
       "        vertical-align: top;\n",
       "    }\n",
       "\n",
       "    .dataframe thead th {\n",
       "        text-align: right;\n",
       "    }\n",
       "</style>\n",
       "<table border=\"1\" class=\"dataframe\">\n",
       "  <thead>\n",
       "    <tr style=\"text-align: right;\">\n",
       "      <th></th>\n",
       "      <th>район</th>\n",
       "      <th>количество</th>\n",
       "    </tr>\n",
       "  </thead>\n",
       "  <tbody>\n",
       "    <tr>\n",
       "      <th>0</th>\n",
       "      <td>Центральный административный округ</td>\n",
       "      <td>26</td>\n",
       "    </tr>\n",
       "    <tr>\n",
       "      <th>1</th>\n",
       "      <td>Западный административный округ</td>\n",
       "      <td>9</td>\n",
       "    </tr>\n",
       "    <tr>\n",
       "      <th>2</th>\n",
       "      <td>Юго-Западный административный округ</td>\n",
       "      <td>7</td>\n",
       "    </tr>\n",
       "    <tr>\n",
       "      <th>3</th>\n",
       "      <td>Восточный административный округ</td>\n",
       "      <td>5</td>\n",
       "    </tr>\n",
       "    <tr>\n",
       "      <th>4</th>\n",
       "      <td>Северный административный округ</td>\n",
       "      <td>5</td>\n",
       "    </tr>\n",
       "    <tr>\n",
       "      <th>5</th>\n",
       "      <td>Северо-Восточный административный округ</td>\n",
       "      <td>3</td>\n",
       "    </tr>\n",
       "    <tr>\n",
       "      <th>6</th>\n",
       "      <td>Северо-Западный административный округ</td>\n",
       "      <td>2</td>\n",
       "    </tr>\n",
       "    <tr>\n",
       "      <th>7</th>\n",
       "      <td>Юго-Восточный административный округ</td>\n",
       "      <td>1</td>\n",
       "    </tr>\n",
       "    <tr>\n",
       "      <th>8</th>\n",
       "      <td>Южный административный округ</td>\n",
       "      <td>1</td>\n",
       "    </tr>\n",
       "  </tbody>\n",
       "</table>\n",
       "</div>"
      ],
      "text/plain": [
       "                                     район  количество\n",
       "0       Центральный административный округ          26\n",
       "1          Западный административный округ           9\n",
       "2      Юго-Западный административный округ           7\n",
       "3         Восточный административный округ           5\n",
       "4          Северный административный округ           5\n",
       "5  Северо-Восточный административный округ           3\n",
       "6   Северо-Западный административный округ           2\n",
       "7     Юго-Восточный административный округ           1\n",
       "8             Южный административный округ           1"
      ]
     },
     "execution_count": 39,
     "metadata": {},
     "output_type": "execute_result"
    }
   ],
   "source": [
    "coffee_24h_dist = coffeehouses_24h.groupby('district')['name'].count().sort_values(ascending=False).reset_index()\n",
    "coffee_24h_dist.columns = ['район', 'количество']\n",
    "coffee_24h_dist"
   ]
  },
  {
   "cell_type": "code",
   "execution_count": null,
   "metadata": {},
   "outputs": [],
   "source": [
    "# создаём карту Москвы\n",
    "map_coffee_24h = Map(location=[moscow_lat, moscow_lng], zoom_start=10)\n",
    "\n",
    "# создаём хороплет с помощью конструктора Choropleth и добавляем его на карту\n",
    "Choropleth(\n",
    "    geo_data=state_geo,\n",
    "    data=coffee_24h_dist,\n",
    "    columns=['район', 'количество'],\n",
    "    key_on='feature.name',\n",
    "    fill_color='YlGn',\n",
    "    fill_opacity=0.8,\n",
    "    legend_name='Количество круглосуточных кофеен по районам',\n",
    ").add_to(map_coffee_24h)\n",
    "\n",
    "# выводим карту\n",
    "map_coffee_24h"
   ]
  },
  {
   "cell_type": "markdown",
   "metadata": {},
   "source": [
    "<image src=\"https://i.pstorage.space/i/vel7W8qg5/original_18.PNG\" alt=\"\">"
   ]
  },
  {
   "cell_type": "markdown",
   "metadata": {},
   "source": [
    "- Круглосуточных кофеен всего 4% от общего количества.\n",
    "- Почти половина из них находится в ЦАО."
   ]
  },
  {
   "cell_type": "markdown",
   "metadata": {},
   "source": [
    "Какие у кофеен рейтинги? Как они распределяются по районам?"
   ]
  },
  {
   "cell_type": "code",
   "execution_count": 40,
   "metadata": {},
   "outputs": [
    {
     "data": {
      "text/html": [
       "<div>\n",
       "<style scoped>\n",
       "    .dataframe tbody tr th:only-of-type {\n",
       "        vertical-align: middle;\n",
       "    }\n",
       "\n",
       "    .dataframe tbody tr th {\n",
       "        vertical-align: top;\n",
       "    }\n",
       "\n",
       "    .dataframe thead th {\n",
       "        text-align: right;\n",
       "    }\n",
       "</style>\n",
       "<table border=\"1\" class=\"dataframe\">\n",
       "  <thead>\n",
       "    <tr style=\"text-align: right;\">\n",
       "      <th></th>\n",
       "      <th>район</th>\n",
       "      <th>средний рейтинг</th>\n",
       "    </tr>\n",
       "  </thead>\n",
       "  <tbody>\n",
       "    <tr>\n",
       "      <th>0</th>\n",
       "      <td>Центральный административный округ</td>\n",
       "      <td>4.34</td>\n",
       "    </tr>\n",
       "    <tr>\n",
       "      <th>1</th>\n",
       "      <td>Северо-Западный административный округ</td>\n",
       "      <td>4.33</td>\n",
       "    </tr>\n",
       "    <tr>\n",
       "      <th>2</th>\n",
       "      <td>Северный административный округ</td>\n",
       "      <td>4.29</td>\n",
       "    </tr>\n",
       "    <tr>\n",
       "      <th>3</th>\n",
       "      <td>Восточный административный округ</td>\n",
       "      <td>4.28</td>\n",
       "    </tr>\n",
       "    <tr>\n",
       "      <th>4</th>\n",
       "      <td>Юго-Западный административный округ</td>\n",
       "      <td>4.28</td>\n",
       "    </tr>\n",
       "    <tr>\n",
       "      <th>5</th>\n",
       "      <td>Юго-Восточный административный округ</td>\n",
       "      <td>4.23</td>\n",
       "    </tr>\n",
       "    <tr>\n",
       "      <th>6</th>\n",
       "      <td>Южный административный округ</td>\n",
       "      <td>4.23</td>\n",
       "    </tr>\n",
       "    <tr>\n",
       "      <th>7</th>\n",
       "      <td>Северо-Восточный административный округ</td>\n",
       "      <td>4.22</td>\n",
       "    </tr>\n",
       "    <tr>\n",
       "      <th>8</th>\n",
       "      <td>Западный административный округ</td>\n",
       "      <td>4.19</td>\n",
       "    </tr>\n",
       "  </tbody>\n",
       "</table>\n",
       "</div>"
      ],
      "text/plain": [
       "                                     район  средний рейтинг\n",
       "0       Центральный административный округ             4.34\n",
       "1   Северо-Западный административный округ             4.33\n",
       "2          Северный административный округ             4.29\n",
       "3         Восточный административный округ             4.28\n",
       "4      Юго-Западный административный округ             4.28\n",
       "5     Юго-Восточный административный округ             4.23\n",
       "6             Южный административный округ             4.23\n",
       "7  Северо-Восточный административный округ             4.22\n",
       "8          Западный административный округ             4.19"
      ]
     },
     "execution_count": 40,
     "metadata": {},
     "output_type": "execute_result"
    }
   ],
   "source": [
    "rating_coffee = coffeehouses.groupby('district')['rating'].mean().round(2).sort_values(ascending=False).reset_index()\n",
    "rating_coffee.columns = ['район', 'средний рейтинг']\n",
    "rating_coffee"
   ]
  },
  {
   "cell_type": "code",
   "execution_count": null,
   "metadata": {},
   "outputs": [],
   "source": [
    "# создаём карту Москвы\n",
    "map_coffee_rating = Map(location=[moscow_lat, moscow_lng], zoom_start=10)\n",
    "\n",
    "# создаём хороплет с помощью конструктора Choropleth и добавляем его на карту\n",
    "Choropleth(\n",
    "    geo_data=state_geo,\n",
    "    data=rating_coffee,\n",
    "    columns=['район', 'средний рейтинг'],\n",
    "    key_on='feature.name',\n",
    "    fill_color='YlGn',\n",
    "    fill_opacity=0.8,\n",
    "    legend_name='Средний рейтинг кофеен по районам',\n",
    ").add_to(map_coffee_rating)\n",
    "\n",
    "# выводим карту\n",
    "map_coffee_rating"
   ]
  },
  {
   "cell_type": "markdown",
   "metadata": {},
   "source": [
    "<image src=\"https://i.pstorage.space/i/qYy1vb0ll/original_19.PNG\" alt=\"\">"
   ]
  },
  {
   "cell_type": "markdown",
   "metadata": {},
   "source": [
    "- Самые лучшие кофейни по средним оценкам - в ЦАО и СЗАО, больше 4,3.\n",
    "- Район с худшими кофейнями - ЗАО (4,19).\n",
    "- Но, в целом, разброс оценок не такой уж и большой: 4,19 - 4,34."
   ]
  },
  {
   "cell_type": "markdown",
   "metadata": {},
   "source": [
    "На какую стоимость чашки капучино стоит ориентироваться при открытии и почему?"
   ]
  },
  {
   "cell_type": "code",
   "execution_count": 41,
   "metadata": {},
   "outputs": [
    {
     "data": {
      "text/html": [
       "<div>\n",
       "<style scoped>\n",
       "    .dataframe tbody tr th:only-of-type {\n",
       "        vertical-align: middle;\n",
       "    }\n",
       "\n",
       "    .dataframe tbody tr th {\n",
       "        vertical-align: top;\n",
       "    }\n",
       "\n",
       "    .dataframe thead th {\n",
       "        text-align: right;\n",
       "    }\n",
       "</style>\n",
       "<table border=\"1\" class=\"dataframe\">\n",
       "  <thead>\n",
       "    <tr style=\"text-align: right;\">\n",
       "      <th></th>\n",
       "      <th>район</th>\n",
       "      <th>средняя стоимость</th>\n",
       "    </tr>\n",
       "  </thead>\n",
       "  <tbody>\n",
       "    <tr>\n",
       "      <th>0</th>\n",
       "      <td>Западный административный округ</td>\n",
       "      <td>189.00</td>\n",
       "    </tr>\n",
       "    <tr>\n",
       "      <th>1</th>\n",
       "      <td>Центральный административный округ</td>\n",
       "      <td>188.00</td>\n",
       "    </tr>\n",
       "    <tr>\n",
       "      <th>2</th>\n",
       "      <td>Юго-Западный административный округ</td>\n",
       "      <td>184.00</td>\n",
       "    </tr>\n",
       "    <tr>\n",
       "      <th>3</th>\n",
       "      <td>Восточный административный округ</td>\n",
       "      <td>174.00</td>\n",
       "    </tr>\n",
       "    <tr>\n",
       "      <th>4</th>\n",
       "      <td>Северный административный округ</td>\n",
       "      <td>166.00</td>\n",
       "    </tr>\n",
       "    <tr>\n",
       "      <th>5</th>\n",
       "      <td>Северо-Западный административный округ</td>\n",
       "      <td>166.00</td>\n",
       "    </tr>\n",
       "    <tr>\n",
       "      <th>6</th>\n",
       "      <td>Северо-Восточный административный округ</td>\n",
       "      <td>165.00</td>\n",
       "    </tr>\n",
       "    <tr>\n",
       "      <th>7</th>\n",
       "      <td>Южный административный округ</td>\n",
       "      <td>158.00</td>\n",
       "    </tr>\n",
       "    <tr>\n",
       "      <th>8</th>\n",
       "      <td>Юго-Восточный административный округ</td>\n",
       "      <td>151.00</td>\n",
       "    </tr>\n",
       "  </tbody>\n",
       "</table>\n",
       "</div>"
      ],
      "text/plain": [
       "                                     район  средняя стоимость\n",
       "0          Западный административный округ             189.00\n",
       "1       Центральный административный округ             188.00\n",
       "2      Юго-Западный административный округ             184.00\n",
       "3         Восточный административный округ             174.00\n",
       "4          Северный административный округ             166.00\n",
       "5   Северо-Западный административный округ             166.00\n",
       "6  Северо-Восточный административный округ             165.00\n",
       "7             Южный административный округ             158.00\n",
       "8     Юго-Восточный административный округ             151.00"
      ]
     },
     "execution_count": 41,
     "metadata": {},
     "output_type": "execute_result"
    }
   ],
   "source": [
    "coffeehouses_cup = coffeehouses.groupby('district')['middle_coffee_cup'].mean().round(0).sort_values(ascending=False).reset_index()\n",
    "coffeehouses_cup.columns = ['район', 'средняя стоимость']\n",
    "coffeehouses_cup"
   ]
  },
  {
   "cell_type": "code",
   "execution_count": null,
   "metadata": {},
   "outputs": [],
   "source": [
    "# создаём карту Москвы\n",
    "map_coffeehouses_cup = Map(location=[moscow_lat, moscow_lng], zoom_start=10)\n",
    "\n",
    "# создаём хороплет с помощью конструктора Choropleth и добавляем его на карту\n",
    "Choropleth(\n",
    "    geo_data=state_geo,\n",
    "    data=coffeehouses_cup,\n",
    "    columns=['район', 'средняя стоимость'],\n",
    "    key_on='feature.name',\n",
    "    fill_color='YlGn',\n",
    "    fill_opacity=0.8,\n",
    "    legend_name='Средний чек за кофе по районам',\n",
    ").add_to(map_coffeehouses_cup)\n",
    "\n",
    "# выводим карту\n",
    "map_coffeehouses_cup"
   ]
  },
  {
   "cell_type": "markdown",
   "metadata": {},
   "source": [
    "<image src=\"https://i.pstorage.space/i/jM2mkW39Z/original_20.PNG\" alt=\"\">"
   ]
  },
  {
   "cell_type": "markdown",
   "metadata": {},
   "source": [
    "- Самый дорогой кофе в ЦАО, ЗАО и ЮЗАО, он обойдётся вам в среднем от 180 до 190 рублей.\n",
    "- Дешевле всего - в ЮВАО, 151 рубль за чашку."
   ]
  },
  {
   "cell_type": "markdown",
   "metadata": {},
   "source": [
    "**Рекомендации:**\n",
    "<br/>\n",
    "Для открытия новой кофейни я бы посоветовал районы ЗАО и ЮЗАО. Они не перенасыщены заведениями подобного рода, в них, судя по оценкам, не хватает качественных заведений, а также это очень обеспеченные районы, в которых средний чек не уступает ЦАО. В этих районах буквально единицы кофеен работают круглосуточно, можно подумать и о такой опции."
   ]
  },
  {
   "cell_type": "markdown",
   "metadata": {},
   "source": [
    "[Презентация](https://disk.yandex.ru/i/jY3bQS57cmJNyw)"
   ]
  }
 ],
 "metadata": {
  "ExecuteTimeLog": [
   {
    "duration": 1551,
    "start_time": "2023-06-16T14:15:43.377Z"
   },
   {
    "duration": 541,
    "start_time": "2023-06-16T14:15:44.930Z"
   },
   {
    "duration": 16,
    "start_time": "2023-06-16T14:15:45.473Z"
   },
   {
    "duration": 15,
    "start_time": "2023-06-16T14:15:45.490Z"
   },
   {
    "duration": 24,
    "start_time": "2023-06-16T14:15:45.508Z"
   },
   {
    "duration": 26,
    "start_time": "2023-06-16T14:15:45.533Z"
   },
   {
    "duration": 6,
    "start_time": "2023-06-16T14:15:45.560Z"
   },
   {
    "duration": 10,
    "start_time": "2023-06-16T14:15:45.567Z"
   },
   {
    "duration": 17,
    "start_time": "2023-06-16T14:15:45.579Z"
   },
   {
    "duration": 8,
    "start_time": "2023-06-16T14:15:45.597Z"
   },
   {
    "duration": 225,
    "start_time": "2023-06-16T14:15:45.606Z"
   },
   {
    "duration": 6,
    "start_time": "2023-06-16T14:15:45.832Z"
   },
   {
    "duration": 20,
    "start_time": "2023-06-16T14:15:45.839Z"
   },
   {
    "duration": 15,
    "start_time": "2023-06-16T14:15:45.862Z"
   },
   {
    "duration": 21,
    "start_time": "2023-06-16T14:15:45.879Z"
   },
   {
    "duration": 10,
    "start_time": "2023-06-16T14:15:45.901Z"
   },
   {
    "duration": 496,
    "start_time": "2023-06-16T14:15:45.912Z"
   },
   {
    "duration": 52,
    "start_time": "2023-06-16T14:15:46.410Z"
   },
   {
    "duration": 13,
    "start_time": "2023-06-16T14:15:46.464Z"
   },
   {
    "duration": 122,
    "start_time": "2023-06-16T14:15:46.479Z"
   },
   {
    "duration": 10,
    "start_time": "2023-06-16T14:15:46.603Z"
   },
   {
    "duration": 85,
    "start_time": "2023-06-16T14:15:46.615Z"
   },
   {
    "duration": 11,
    "start_time": "2023-06-16T14:15:46.702Z"
   },
   {
    "duration": 57,
    "start_time": "2023-06-16T14:15:46.715Z"
   },
   {
    "duration": 16,
    "start_time": "2023-06-16T14:15:46.774Z"
   },
   {
    "duration": 65,
    "start_time": "2023-06-16T14:15:46.792Z"
   },
   {
    "duration": 26,
    "start_time": "2023-06-16T14:15:46.858Z"
   },
   {
    "duration": 5,
    "start_time": "2023-06-16T14:15:46.885Z"
   },
   {
    "duration": 110,
    "start_time": "2023-06-16T14:15:46.892Z"
   },
   {
    "duration": 12,
    "start_time": "2023-06-16T14:15:47.004Z"
   },
   {
    "duration": 78,
    "start_time": "2023-06-16T14:15:47.018Z"
   },
   {
    "duration": 13,
    "start_time": "2023-06-16T14:15:47.097Z"
   },
   {
    "duration": 84,
    "start_time": "2023-06-16T14:15:47.111Z"
   },
   {
    "duration": 12,
    "start_time": "2023-06-16T14:15:47.196Z"
   },
   {
    "duration": 86,
    "start_time": "2023-06-16T14:15:47.209Z"
   },
   {
    "duration": 9,
    "start_time": "2023-06-16T14:15:47.296Z"
   },
   {
    "duration": 75,
    "start_time": "2023-06-16T14:15:47.307Z"
   },
   {
    "duration": 265,
    "start_time": "2023-06-16T14:15:47.383Z"
   },
   {
    "duration": 0,
    "start_time": "2023-06-16T14:15:47.650Z"
   },
   {
    "duration": 0,
    "start_time": "2023-06-16T14:15:47.653Z"
   },
   {
    "duration": 0,
    "start_time": "2023-06-16T14:15:47.654Z"
   },
   {
    "duration": 0,
    "start_time": "2023-06-16T14:15:47.656Z"
   },
   {
    "duration": 0,
    "start_time": "2023-06-16T14:15:47.657Z"
   },
   {
    "duration": 0,
    "start_time": "2023-06-16T14:15:47.659Z"
   },
   {
    "duration": 0,
    "start_time": "2023-06-16T14:15:47.660Z"
   },
   {
    "duration": 0,
    "start_time": "2023-06-16T14:15:47.662Z"
   },
   {
    "duration": 0,
    "start_time": "2023-06-16T14:15:47.663Z"
   },
   {
    "duration": 0,
    "start_time": "2023-06-16T14:15:47.664Z"
   },
   {
    "duration": 0,
    "start_time": "2023-06-16T14:15:47.665Z"
   },
   {
    "duration": 0,
    "start_time": "2023-06-16T14:15:47.667Z"
   },
   {
    "duration": 0,
    "start_time": "2023-06-16T14:15:47.668Z"
   },
   {
    "duration": 0,
    "start_time": "2023-06-16T14:15:47.668Z"
   },
   {
    "duration": 0,
    "start_time": "2023-06-16T14:15:47.669Z"
   },
   {
    "duration": 0,
    "start_time": "2023-06-16T14:15:47.670Z"
   },
   {
    "duration": 0,
    "start_time": "2023-06-16T14:15:47.671Z"
   },
   {
    "duration": 0,
    "start_time": "2023-06-16T14:15:47.672Z"
   },
   {
    "duration": 0,
    "start_time": "2023-06-16T14:15:47.673Z"
   },
   {
    "duration": 0,
    "start_time": "2023-06-16T14:15:47.674Z"
   },
   {
    "duration": 0,
    "start_time": "2023-06-16T14:15:47.675Z"
   },
   {
    "duration": 0,
    "start_time": "2023-06-16T14:15:47.676Z"
   },
   {
    "duration": 306,
    "start_time": "2023-06-16T14:16:26.562Z"
   },
   {
    "duration": 9258,
    "start_time": "2023-06-16T14:16:30.038Z"
   },
   {
    "duration": 17,
    "start_time": "2023-06-16T14:16:39.299Z"
   },
   {
    "duration": 176,
    "start_time": "2023-06-16T14:16:39.318Z"
   },
   {
    "duration": 68,
    "start_time": "2023-06-16T14:16:39.495Z"
   },
   {
    "duration": 112,
    "start_time": "2023-06-16T14:16:39.565Z"
   },
   {
    "duration": 25,
    "start_time": "2023-06-16T14:16:39.678Z"
   },
   {
    "duration": 5,
    "start_time": "2023-06-16T14:16:39.704Z"
   },
   {
    "duration": 13,
    "start_time": "2023-06-16T14:16:39.711Z"
   },
   {
    "duration": 154,
    "start_time": "2023-06-16T14:16:39.726Z"
   },
   {
    "duration": 11,
    "start_time": "2023-06-16T14:16:39.882Z"
   },
   {
    "duration": 262,
    "start_time": "2023-06-16T14:16:39.895Z"
   },
   {
    "duration": 8,
    "start_time": "2023-06-16T14:16:40.159Z"
   },
   {
    "duration": 10,
    "start_time": "2023-06-16T14:16:40.168Z"
   },
   {
    "duration": 106,
    "start_time": "2023-06-16T14:16:40.180Z"
   },
   {
    "duration": 1517,
    "start_time": "2023-06-16T14:16:40.288Z"
   },
   {
    "duration": 5,
    "start_time": "2023-06-16T14:16:41.807Z"
   },
   {
    "duration": 44,
    "start_time": "2023-06-16T14:16:41.814Z"
   },
   {
    "duration": 141,
    "start_time": "2023-06-16T14:16:41.860Z"
   },
   {
    "duration": 13,
    "start_time": "2023-06-16T14:16:42.003Z"
   },
   {
    "duration": 114,
    "start_time": "2023-06-16T14:16:42.018Z"
   },
   {
    "duration": 22,
    "start_time": "2023-06-16T14:16:42.134Z"
   },
   {
    "duration": 99,
    "start_time": "2023-06-16T14:16:42.158Z"
   },
   {
    "duration": 4,
    "start_time": "2023-06-16T16:07:46.792Z"
   },
   {
    "duration": 66,
    "start_time": "2023-06-16T16:07:46.798Z"
   },
   {
    "duration": 17,
    "start_time": "2023-06-16T16:07:46.866Z"
   },
   {
    "duration": 14,
    "start_time": "2023-06-16T16:07:46.885Z"
   },
   {
    "duration": 28,
    "start_time": "2023-06-16T16:07:46.902Z"
   },
   {
    "duration": 23,
    "start_time": "2023-06-16T16:07:46.931Z"
   },
   {
    "duration": 6,
    "start_time": "2023-06-16T16:07:46.956Z"
   },
   {
    "duration": 9,
    "start_time": "2023-06-16T16:07:46.963Z"
   },
   {
    "duration": 16,
    "start_time": "2023-06-16T16:07:46.974Z"
   },
   {
    "duration": 9,
    "start_time": "2023-06-16T16:07:46.991Z"
   },
   {
    "duration": 272,
    "start_time": "2023-06-16T16:07:47.002Z"
   },
   {
    "duration": 6,
    "start_time": "2023-06-16T16:07:47.275Z"
   },
   {
    "duration": 10,
    "start_time": "2023-06-16T16:07:47.283Z"
   },
   {
    "duration": 25,
    "start_time": "2023-06-16T16:07:47.296Z"
   },
   {
    "duration": 35,
    "start_time": "2023-06-16T16:07:47.326Z"
   },
   {
    "duration": 13,
    "start_time": "2023-06-16T16:07:47.362Z"
   },
   {
    "duration": 52,
    "start_time": "2023-06-16T16:07:47.377Z"
   },
   {
    "duration": 41,
    "start_time": "2023-06-16T16:07:47.431Z"
   },
   {
    "duration": 11,
    "start_time": "2023-06-16T16:07:47.474Z"
   },
   {
    "duration": 175,
    "start_time": "2023-06-16T16:07:47.487Z"
   },
   {
    "duration": 12,
    "start_time": "2023-06-16T16:07:47.664Z"
   },
   {
    "duration": 624,
    "start_time": "2023-06-16T16:07:47.677Z"
   },
   {
    "duration": 62,
    "start_time": "2023-06-16T16:07:48.303Z"
   },
   {
    "duration": 52,
    "start_time": "2023-06-16T16:07:48.367Z"
   },
   {
    "duration": 21,
    "start_time": "2023-06-16T16:07:48.421Z"
   },
   {
    "duration": 60,
    "start_time": "2023-06-16T16:07:48.444Z"
   },
   {
    "duration": 32,
    "start_time": "2023-06-16T16:07:48.505Z"
   },
   {
    "duration": 18,
    "start_time": "2023-06-16T16:07:48.539Z"
   },
   {
    "duration": 198,
    "start_time": "2023-06-16T16:07:48.562Z"
   },
   {
    "duration": 11,
    "start_time": "2023-06-16T16:07:48.762Z"
   },
   {
    "duration": 108,
    "start_time": "2023-06-16T16:07:48.775Z"
   },
   {
    "duration": 13,
    "start_time": "2023-06-16T16:07:48.885Z"
   },
   {
    "duration": 105,
    "start_time": "2023-06-16T16:07:48.900Z"
   },
   {
    "duration": 11,
    "start_time": "2023-06-16T16:07:49.007Z"
   },
   {
    "duration": 87,
    "start_time": "2023-06-16T16:07:49.020Z"
   },
   {
    "duration": 11,
    "start_time": "2023-06-16T16:07:49.109Z"
   },
   {
    "duration": 86,
    "start_time": "2023-06-16T16:07:49.121Z"
   },
   {
    "duration": 122,
    "start_time": "2023-06-16T16:07:49.209Z"
   },
   {
    "duration": 8998,
    "start_time": "2023-06-16T16:07:49.333Z"
   },
   {
    "duration": 38,
    "start_time": "2023-06-16T16:07:58.333Z"
   },
   {
    "duration": 281,
    "start_time": "2023-06-16T16:07:58.373Z"
   },
   {
    "duration": 19,
    "start_time": "2023-06-16T16:07:58.657Z"
   },
   {
    "duration": 117,
    "start_time": "2023-06-16T16:07:58.677Z"
   },
   {
    "duration": 25,
    "start_time": "2023-06-16T16:07:58.795Z"
   },
   {
    "duration": 36,
    "start_time": "2023-06-16T16:07:58.822Z"
   },
   {
    "duration": 11,
    "start_time": "2023-06-16T16:07:58.860Z"
   },
   {
    "duration": 110,
    "start_time": "2023-06-16T16:07:58.872Z"
   },
   {
    "duration": 13,
    "start_time": "2023-06-16T16:07:58.984Z"
   },
   {
    "duration": 395,
    "start_time": "2023-06-16T16:07:58.998Z"
   },
   {
    "duration": 8,
    "start_time": "2023-06-16T16:07:59.395Z"
   },
   {
    "duration": 13,
    "start_time": "2023-06-16T16:07:59.405Z"
   },
   {
    "duration": 113,
    "start_time": "2023-06-16T16:07:59.420Z"
   },
   {
    "duration": 1521,
    "start_time": "2023-06-16T16:07:59.534Z"
   },
   {
    "duration": 5,
    "start_time": "2023-06-16T16:08:01.057Z"
   },
   {
    "duration": 530,
    "start_time": "2023-06-16T16:08:01.063Z"
   },
   {
    "duration": 162,
    "start_time": "2023-06-16T16:08:01.595Z"
   },
   {
    "duration": 83,
    "start_time": "2023-06-16T16:08:01.758Z"
   },
   {
    "duration": 391,
    "start_time": "2023-06-16T16:08:01.843Z"
   },
   {
    "duration": 107,
    "start_time": "2023-06-16T16:08:02.236Z"
   },
   {
    "duration": 128,
    "start_time": "2023-06-16T16:08:02.345Z"
   },
   {
    "duration": 1913,
    "start_time": "2023-06-18T05:47:09.234Z"
   },
   {
    "duration": 188,
    "start_time": "2023-06-18T05:47:11.149Z"
   },
   {
    "duration": 19,
    "start_time": "2023-06-18T05:47:11.338Z"
   },
   {
    "duration": 42,
    "start_time": "2023-06-18T05:47:11.359Z"
   },
   {
    "duration": 45,
    "start_time": "2023-06-18T05:47:11.403Z"
   },
   {
    "duration": 18,
    "start_time": "2023-06-18T05:47:11.455Z"
   },
   {
    "duration": 19,
    "start_time": "2023-06-18T05:47:11.475Z"
   },
   {
    "duration": 34,
    "start_time": "2023-06-18T05:47:11.495Z"
   },
   {
    "duration": 62,
    "start_time": "2023-06-18T05:47:11.531Z"
   },
   {
    "duration": 16,
    "start_time": "2023-06-18T05:47:11.595Z"
   },
   {
    "duration": 41,
    "start_time": "2023-06-18T05:47:11.612Z"
   },
   {
    "duration": 33,
    "start_time": "2023-06-18T05:47:11.655Z"
   },
   {
    "duration": 12,
    "start_time": "2023-06-18T05:47:11.689Z"
   },
   {
    "duration": 260,
    "start_time": "2023-06-18T05:47:11.703Z"
   },
   {
    "duration": 6,
    "start_time": "2023-06-18T05:47:11.965Z"
   },
   {
    "duration": 29,
    "start_time": "2023-06-18T05:47:11.973Z"
   },
   {
    "duration": 42,
    "start_time": "2023-06-18T05:47:12.003Z"
   },
   {
    "duration": 31,
    "start_time": "2023-06-18T05:47:12.047Z"
   },
   {
    "duration": 15,
    "start_time": "2023-06-18T05:47:12.080Z"
   },
   {
    "duration": 532,
    "start_time": "2023-06-18T05:47:12.097Z"
   },
   {
    "duration": 38,
    "start_time": "2023-06-18T05:47:12.631Z"
   },
   {
    "duration": 63,
    "start_time": "2023-06-18T05:47:12.670Z"
   },
   {
    "duration": 122,
    "start_time": "2023-06-18T05:47:12.735Z"
   },
   {
    "duration": 13,
    "start_time": "2023-06-18T05:47:12.859Z"
   },
   {
    "duration": 78,
    "start_time": "2023-06-18T05:47:12.874Z"
   },
   {
    "duration": 21,
    "start_time": "2023-06-18T05:47:12.954Z"
   },
   {
    "duration": 77,
    "start_time": "2023-06-18T05:47:12.976Z"
   },
   {
    "duration": 25,
    "start_time": "2023-06-18T05:47:13.055Z"
   },
   {
    "duration": 5,
    "start_time": "2023-06-18T05:47:13.082Z"
   },
   {
    "duration": 108,
    "start_time": "2023-06-18T05:47:13.089Z"
   },
   {
    "duration": 34,
    "start_time": "2023-06-18T05:47:13.199Z"
   },
   {
    "duration": 83,
    "start_time": "2023-06-18T05:47:13.234Z"
   },
   {
    "duration": 28,
    "start_time": "2023-06-18T05:47:13.318Z"
   },
   {
    "duration": 96,
    "start_time": "2023-06-18T05:47:13.348Z"
   },
   {
    "duration": 13,
    "start_time": "2023-06-18T05:47:13.453Z"
   },
   {
    "duration": 87,
    "start_time": "2023-06-18T05:47:13.467Z"
   },
   {
    "duration": 19,
    "start_time": "2023-06-18T05:47:13.556Z"
   },
   {
    "duration": 79,
    "start_time": "2023-06-18T05:47:13.576Z"
   },
   {
    "duration": 231,
    "start_time": "2023-06-18T05:47:13.657Z"
   },
   {
    "duration": 0,
    "start_time": "2023-06-18T05:47:13.890Z"
   },
   {
    "duration": 0,
    "start_time": "2023-06-18T05:47:13.892Z"
   },
   {
    "duration": 0,
    "start_time": "2023-06-18T05:47:13.893Z"
   },
   {
    "duration": 0,
    "start_time": "2023-06-18T05:47:13.895Z"
   },
   {
    "duration": 0,
    "start_time": "2023-06-18T05:47:13.896Z"
   },
   {
    "duration": 0,
    "start_time": "2023-06-18T05:47:13.898Z"
   },
   {
    "duration": 0,
    "start_time": "2023-06-18T05:47:13.900Z"
   },
   {
    "duration": 0,
    "start_time": "2023-06-18T05:47:13.901Z"
   },
   {
    "duration": 0,
    "start_time": "2023-06-18T05:47:13.930Z"
   },
   {
    "duration": 0,
    "start_time": "2023-06-18T05:47:13.931Z"
   },
   {
    "duration": 0,
    "start_time": "2023-06-18T05:47:13.932Z"
   },
   {
    "duration": 0,
    "start_time": "2023-06-18T05:47:13.932Z"
   },
   {
    "duration": 0,
    "start_time": "2023-06-18T05:47:13.933Z"
   },
   {
    "duration": 0,
    "start_time": "2023-06-18T05:47:13.934Z"
   },
   {
    "duration": 0,
    "start_time": "2023-06-18T05:47:13.934Z"
   },
   {
    "duration": 0,
    "start_time": "2023-06-18T05:47:13.935Z"
   },
   {
    "duration": 0,
    "start_time": "2023-06-18T05:47:13.935Z"
   },
   {
    "duration": 0,
    "start_time": "2023-06-18T05:47:13.936Z"
   },
   {
    "duration": 0,
    "start_time": "2023-06-18T05:47:13.937Z"
   },
   {
    "duration": 0,
    "start_time": "2023-06-18T05:47:13.939Z"
   },
   {
    "duration": 0,
    "start_time": "2023-06-18T05:47:13.941Z"
   },
   {
    "duration": 0,
    "start_time": "2023-06-18T05:47:13.942Z"
   },
   {
    "duration": 101,
    "start_time": "2023-06-18T05:49:49.187Z"
   }
  ],
  "kernelspec": {
   "display_name": "Python 3 (ipykernel)",
   "language": "python",
   "name": "python3"
  },
  "language_info": {
   "codemirror_mode": {
    "name": "ipython",
    "version": 3
   },
   "file_extension": ".py",
   "mimetype": "text/x-python",
   "name": "python",
   "nbconvert_exporter": "python",
   "pygments_lexer": "ipython3",
   "version": "3.9.13"
  },
  "toc": {
   "base_numbering": 1,
   "nav_menu": {},
   "number_sections": true,
   "sideBar": true,
   "skip_h1_title": true,
   "title_cell": "Table of Contents",
   "title_sidebar": "Contents",
   "toc_cell": false,
   "toc_position": {},
   "toc_section_display": true,
   "toc_window_display": false
  }
 },
 "nbformat": 4,
 "nbformat_minor": 2
}
